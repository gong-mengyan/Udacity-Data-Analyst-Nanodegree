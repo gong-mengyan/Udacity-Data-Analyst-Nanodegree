{
 "cells": [
  {
   "cell_type": "markdown",
   "metadata": {},
   "source": [
    "# What factors are associated with the life expectancy in 2018 globally?\n",
    "\n",
    "## Table of Contents\n",
    "<ul>\n",
    "<li><a href=\"#intro\">Introduction</a></li>\n",
    "<li><a href=\"#wrangling\">Data Wrangling</a></li>\n",
    "<li><a href=\"#eda\">Exploratory Data Analysis</a></li>\n",
    "<li><a href=\"#conclusions\">Conclusions</a></li>\n",
    "</ul>"
   ]
  },
  {
   "cell_type": "markdown",
   "metadata": {},
   "source": [
    "<a id='intro'></a>\n",
    "## Introduction\n",
    "\n",
    "Data from [Gapminder](https://www.gapminder.org/data/) were selected for this project. The following data were downloaded as CSV files:\n",
    "* Life expectancy (years): The average nummber of years a newborn child would live if current mortality patters were to stay the same.\n",
    "* Income per person(GDP/capita, ppp$ inflation-adjusted)：Gross domestic product per person adjusted for differences in purchasing power (in international dollars, fixed 2011 prices, ppp based on 2011 ICP).\n",
    "* Primary school completion (% of relevant age group): the number of new entrants in the last grad of primary education, regardless of age, divided by the population at the entrance age for the last grade of primary education.\n",
    "* Long term unemployment rate (%): Percentage of total population that has been registered as long-term unemployed during the given year.\n",
    "* At least basic sanitation, over all access (%): the percentage of people using at least basic sanitation services, that is, improved sanitation facilities that are not shared with other households.\n",
    "* Population denstiy (per square km): Average number of people on each square km of the land in the given country.\n",
    "\n",
    "The purpose of the project was to investigate the life expectancies in different countries and its influence factors by examining the following questions:\n",
    "* How much has the life expectancy changed from 2008 to 2018?\n",
    "* Is life expectancy in 2018 associated with income per person?\n",
    "* Is life expectancy in 2018 associated with primary completion rate?\n",
    "* Does long term unemployment rate influence the life expectancy in 2018?\n",
    "* Does the at least basic sanitation acess percent influence the life expectancy in 2018?\n",
    "* Is life expectancy in 2018 accociated with population density per square kilometer?"
   ]
  },
  {
   "cell_type": "code",
   "execution_count": 1,
   "metadata": {},
   "outputs": [],
   "source": [
    "# import packages used in this report\n",
    "import pandas as pd\n",
    "import numpy as np\n",
    "import matplotlib.pyplot as plt\n",
    "import scipy.stats  as stats\n",
    "%matplotlib inline"
   ]
  },
  {
   "cell_type": "markdown",
   "metadata": {},
   "source": [
    "<a id='wrangling'></a>\n",
    "## Data Wrangling"
   ]
  },
  {
   "cell_type": "markdown",
   "metadata": {},
   "source": [
    "### Load data"
   ]
  },
  {
   "cell_type": "code",
   "execution_count": 2,
   "metadata": {},
   "outputs": [],
   "source": [
    "# load data for life expectancies(years) in different contries and different years\n",
    "life = pd.read_csv('life_expectancy_years.csv')\n",
    "\n",
    "# load data for income per person in different contries and different years\n",
    "income = pd.read_csv('income_per_person_gdppercapita_ppp_inflation_adjusted.csv')\n",
    "\n",
    "# load data for primary completion rate in different contries and different years\n",
    "school = pd.read_csv('primary_completion_rate_total_percent_of_relevant_age_group.csv')\n",
    "\n",
    "# load data for long term unemployment rate (%) in different contries and different years\n",
    "employ = pd.read_csv('long_term_unemployment_rate_percent.csv')\n",
    "\n",
    "# load data for at least basic sanitation overall acess percent (%) in different contries and different years\n",
    "sanitation = pd.read_csv('at_least_basic_sanitation_overall_access_percent.csv')\n",
    "\n",
    "# load data for population denstion per square kilometer in different contries and different years\n",
    "population = pd.read_csv('population_density_per_square_km.csv')"
   ]
  },
  {
   "cell_type": "markdown",
   "metadata": {},
   "source": [
    "### Assess data"
   ]
  },
  {
   "cell_type": "code",
   "execution_count": 3,
   "metadata": {},
   "outputs": [
    {
     "data": {
      "text/html": [
       "<div>\n",
       "<style scoped>\n",
       "    .dataframe tbody tr th:only-of-type {\n",
       "        vertical-align: middle;\n",
       "    }\n",
       "\n",
       "    .dataframe tbody tr th {\n",
       "        vertical-align: top;\n",
       "    }\n",
       "\n",
       "    .dataframe thead th {\n",
       "        text-align: right;\n",
       "    }\n",
       "</style>\n",
       "<table border=\"1\" class=\"dataframe\">\n",
       "  <thead>\n",
       "    <tr style=\"text-align: right;\">\n",
       "      <th></th>\n",
       "      <th>country</th>\n",
       "      <th>1800</th>\n",
       "      <th>1801</th>\n",
       "      <th>1802</th>\n",
       "      <th>1803</th>\n",
       "      <th>1804</th>\n",
       "      <th>1805</th>\n",
       "      <th>1806</th>\n",
       "      <th>1807</th>\n",
       "      <th>1808</th>\n",
       "      <th>...</th>\n",
       "      <th>2009</th>\n",
       "      <th>2010</th>\n",
       "      <th>2011</th>\n",
       "      <th>2012</th>\n",
       "      <th>2013</th>\n",
       "      <th>2014</th>\n",
       "      <th>2015</th>\n",
       "      <th>2016</th>\n",
       "      <th>2017</th>\n",
       "      <th>2018</th>\n",
       "    </tr>\n",
       "  </thead>\n",
       "  <tbody>\n",
       "    <tr>\n",
       "      <th>0</th>\n",
       "      <td>Afghanistan</td>\n",
       "      <td>28.2</td>\n",
       "      <td>28.2</td>\n",
       "      <td>28.2</td>\n",
       "      <td>28.2</td>\n",
       "      <td>28.2</td>\n",
       "      <td>28.2</td>\n",
       "      <td>28.1</td>\n",
       "      <td>28.1</td>\n",
       "      <td>28.1</td>\n",
       "      <td>...</td>\n",
       "      <td>55.7</td>\n",
       "      <td>56.2</td>\n",
       "      <td>56.7</td>\n",
       "      <td>57.2</td>\n",
       "      <td>57.7</td>\n",
       "      <td>57.8</td>\n",
       "      <td>57.9</td>\n",
       "      <td>58.0</td>\n",
       "      <td>58.4</td>\n",
       "      <td>58.7</td>\n",
       "    </tr>\n",
       "    <tr>\n",
       "      <th>1</th>\n",
       "      <td>Albania</td>\n",
       "      <td>35.4</td>\n",
       "      <td>35.4</td>\n",
       "      <td>35.4</td>\n",
       "      <td>35.4</td>\n",
       "      <td>35.4</td>\n",
       "      <td>35.4</td>\n",
       "      <td>35.4</td>\n",
       "      <td>35.4</td>\n",
       "      <td>35.4</td>\n",
       "      <td>...</td>\n",
       "      <td>75.9</td>\n",
       "      <td>76.3</td>\n",
       "      <td>76.7</td>\n",
       "      <td>77.0</td>\n",
       "      <td>77.2</td>\n",
       "      <td>77.4</td>\n",
       "      <td>77.6</td>\n",
       "      <td>77.7</td>\n",
       "      <td>77.9</td>\n",
       "      <td>78.0</td>\n",
       "    </tr>\n",
       "    <tr>\n",
       "      <th>2</th>\n",
       "      <td>Algeria</td>\n",
       "      <td>28.8</td>\n",
       "      <td>28.8</td>\n",
       "      <td>28.8</td>\n",
       "      <td>28.8</td>\n",
       "      <td>28.8</td>\n",
       "      <td>28.8</td>\n",
       "      <td>28.8</td>\n",
       "      <td>28.8</td>\n",
       "      <td>28.8</td>\n",
       "      <td>...</td>\n",
       "      <td>76.3</td>\n",
       "      <td>76.5</td>\n",
       "      <td>76.7</td>\n",
       "      <td>76.8</td>\n",
       "      <td>77.0</td>\n",
       "      <td>77.1</td>\n",
       "      <td>77.3</td>\n",
       "      <td>77.4</td>\n",
       "      <td>77.6</td>\n",
       "      <td>77.9</td>\n",
       "    </tr>\n",
       "    <tr>\n",
       "      <th>3</th>\n",
       "      <td>Andorra</td>\n",
       "      <td>NaN</td>\n",
       "      <td>NaN</td>\n",
       "      <td>NaN</td>\n",
       "      <td>NaN</td>\n",
       "      <td>NaN</td>\n",
       "      <td>NaN</td>\n",
       "      <td>NaN</td>\n",
       "      <td>NaN</td>\n",
       "      <td>NaN</td>\n",
       "      <td>...</td>\n",
       "      <td>82.7</td>\n",
       "      <td>82.7</td>\n",
       "      <td>82.6</td>\n",
       "      <td>82.6</td>\n",
       "      <td>82.6</td>\n",
       "      <td>82.6</td>\n",
       "      <td>82.5</td>\n",
       "      <td>82.5</td>\n",
       "      <td>NaN</td>\n",
       "      <td>NaN</td>\n",
       "    </tr>\n",
       "    <tr>\n",
       "      <th>4</th>\n",
       "      <td>Angola</td>\n",
       "      <td>27.0</td>\n",
       "      <td>27.0</td>\n",
       "      <td>27.0</td>\n",
       "      <td>27.0</td>\n",
       "      <td>27.0</td>\n",
       "      <td>27.0</td>\n",
       "      <td>27.0</td>\n",
       "      <td>27.0</td>\n",
       "      <td>27.0</td>\n",
       "      <td>...</td>\n",
       "      <td>59.3</td>\n",
       "      <td>60.1</td>\n",
       "      <td>60.9</td>\n",
       "      <td>61.7</td>\n",
       "      <td>62.5</td>\n",
       "      <td>63.3</td>\n",
       "      <td>64.0</td>\n",
       "      <td>64.7</td>\n",
       "      <td>64.9</td>\n",
       "      <td>65.2</td>\n",
       "    </tr>\n",
       "  </tbody>\n",
       "</table>\n",
       "<p>5 rows × 220 columns</p>\n",
       "</div>"
      ],
      "text/plain": [
       "       country  1800  1801  1802  1803  1804  1805  1806  1807  1808  ...   \\\n",
       "0  Afghanistan  28.2  28.2  28.2  28.2  28.2  28.2  28.1  28.1  28.1  ...    \n",
       "1      Albania  35.4  35.4  35.4  35.4  35.4  35.4  35.4  35.4  35.4  ...    \n",
       "2      Algeria  28.8  28.8  28.8  28.8  28.8  28.8  28.8  28.8  28.8  ...    \n",
       "3      Andorra   NaN   NaN   NaN   NaN   NaN   NaN   NaN   NaN   NaN  ...    \n",
       "4       Angola  27.0  27.0  27.0  27.0  27.0  27.0  27.0  27.0  27.0  ...    \n",
       "\n",
       "   2009  2010  2011  2012  2013  2014  2015  2016  2017  2018  \n",
       "0  55.7  56.2  56.7  57.2  57.7  57.8  57.9  58.0  58.4  58.7  \n",
       "1  75.9  76.3  76.7  77.0  77.2  77.4  77.6  77.7  77.9  78.0  \n",
       "2  76.3  76.5  76.7  76.8  77.0  77.1  77.3  77.4  77.6  77.9  \n",
       "3  82.7  82.7  82.6  82.6  82.6  82.6  82.5  82.5   NaN   NaN  \n",
       "4  59.3  60.1  60.9  61.7  62.5  63.3  64.0  64.7  64.9  65.2  \n",
       "\n",
       "[5 rows x 220 columns]"
      ]
     },
     "execution_count": 3,
     "metadata": {},
     "output_type": "execute_result"
    }
   ],
   "source": [
    "# Print out a few lines to have an intutitive idea about the data\n",
    "life.head()"
   ]
  },
  {
   "cell_type": "code",
   "execution_count": 4,
   "metadata": {
    "scrolled": true
   },
   "outputs": [
    {
     "name": "stdout",
     "output_type": "stream",
     "text": [
      "<class 'pandas.core.frame.DataFrame'>\n",
      "RangeIndex: 187 entries, 0 to 186\n",
      "Columns: 220 entries, country to 2018\n",
      "dtypes: float64(219), object(1)\n",
      "memory usage: 321.5+ KB\n"
     ]
    }
   ],
   "source": [
    "# inspect data types and look for instances of missing data\n",
    "life.info()"
   ]
  },
  {
   "cell_type": "code",
   "execution_count": 5,
   "metadata": {
    "scrolled": true
   },
   "outputs": [
    {
     "data": {
      "text/plain": [
       "country    0\n",
       "1800       3\n",
       "1801       3\n",
       "1802       3\n",
       "1803       3\n",
       "1804       3\n",
       "1805       3\n",
       "1806       3\n",
       "1807       3\n",
       "1808       3\n",
       "1809       3\n",
       "1810       3\n",
       "1811       3\n",
       "1812       3\n",
       "1813       3\n",
       "1814       3\n",
       "1815       3\n",
       "1816       3\n",
       "1817       3\n",
       "1818       3\n",
       "1819       3\n",
       "1820       3\n",
       "1821       3\n",
       "1822       3\n",
       "1823       3\n",
       "1824       3\n",
       "1825       3\n",
       "1826       3\n",
       "1827       3\n",
       "1828       3\n",
       "          ..\n",
       "1989       0\n",
       "1990       0\n",
       "1991       0\n",
       "1992       0\n",
       "1993       0\n",
       "1994       0\n",
       "1995       0\n",
       "1996       0\n",
       "1997       0\n",
       "1998       0\n",
       "1999       0\n",
       "2000       0\n",
       "2001       0\n",
       "2002       0\n",
       "2003       0\n",
       "2004       0\n",
       "2005       0\n",
       "2006       0\n",
       "2007       0\n",
       "2008       0\n",
       "2009       0\n",
       "2010       0\n",
       "2011       0\n",
       "2012       0\n",
       "2013       0\n",
       "2014       0\n",
       "2015       0\n",
       "2016       0\n",
       "2017       3\n",
       "2018       3\n",
       "Length: 220, dtype: int64"
      ]
     },
     "execution_count": 5,
     "metadata": {},
     "output_type": "execute_result"
    }
   ],
   "source": [
    "# look for number of missing data for each column\n",
    "life.isna().sum()"
   ]
  },
  {
   "cell_type": "markdown",
   "metadata": {},
   "source": [
    "There are only few missing data for life expectancy. So, they can be dropped during analysis."
   ]
  },
  {
   "cell_type": "code",
   "execution_count": 6,
   "metadata": {},
   "outputs": [
    {
     "data": {
      "text/plain": [
       "0"
      ]
     },
     "execution_count": 6,
     "metadata": {},
     "output_type": "execute_result"
    }
   ],
   "source": [
    "# check if there is any duplicated data\n",
    "sum(life.duplicated())"
   ]
  },
  {
   "cell_type": "markdown",
   "metadata": {},
   "source": [
    "No duplicated data for life expectancy"
   ]
  },
  {
   "cell_type": "code",
   "execution_count": 7,
   "metadata": {},
   "outputs": [
    {
     "data": {
      "text/html": [
       "<div>\n",
       "<style scoped>\n",
       "    .dataframe tbody tr th:only-of-type {\n",
       "        vertical-align: middle;\n",
       "    }\n",
       "\n",
       "    .dataframe tbody tr th {\n",
       "        vertical-align: top;\n",
       "    }\n",
       "\n",
       "    .dataframe thead th {\n",
       "        text-align: right;\n",
       "    }\n",
       "</style>\n",
       "<table border=\"1\" class=\"dataframe\">\n",
       "  <thead>\n",
       "    <tr style=\"text-align: right;\">\n",
       "      <th></th>\n",
       "      <th>country</th>\n",
       "      <th>1800</th>\n",
       "      <th>1801</th>\n",
       "      <th>1802</th>\n",
       "      <th>1803</th>\n",
       "      <th>1804</th>\n",
       "      <th>1805</th>\n",
       "      <th>1806</th>\n",
       "      <th>1807</th>\n",
       "      <th>1808</th>\n",
       "      <th>...</th>\n",
       "      <th>2009</th>\n",
       "      <th>2010</th>\n",
       "      <th>2011</th>\n",
       "      <th>2012</th>\n",
       "      <th>2013</th>\n",
       "      <th>2014</th>\n",
       "      <th>2015</th>\n",
       "      <th>2016</th>\n",
       "      <th>2017</th>\n",
       "      <th>2018</th>\n",
       "    </tr>\n",
       "  </thead>\n",
       "  <tbody>\n",
       "    <tr>\n",
       "      <th>0</th>\n",
       "      <td>Afghanistan</td>\n",
       "      <td>603</td>\n",
       "      <td>603</td>\n",
       "      <td>603</td>\n",
       "      <td>603</td>\n",
       "      <td>603</td>\n",
       "      <td>603</td>\n",
       "      <td>603</td>\n",
       "      <td>603</td>\n",
       "      <td>603</td>\n",
       "      <td>...</td>\n",
       "      <td>1530</td>\n",
       "      <td>1610</td>\n",
       "      <td>1660</td>\n",
       "      <td>1840</td>\n",
       "      <td>1810</td>\n",
       "      <td>1780</td>\n",
       "      <td>1750</td>\n",
       "      <td>1740</td>\n",
       "      <td>1800</td>\n",
       "      <td>1870</td>\n",
       "    </tr>\n",
       "    <tr>\n",
       "      <th>1</th>\n",
       "      <td>Albania</td>\n",
       "      <td>667</td>\n",
       "      <td>667</td>\n",
       "      <td>667</td>\n",
       "      <td>667</td>\n",
       "      <td>667</td>\n",
       "      <td>668</td>\n",
       "      <td>668</td>\n",
       "      <td>668</td>\n",
       "      <td>668</td>\n",
       "      <td>...</td>\n",
       "      <td>9530</td>\n",
       "      <td>9930</td>\n",
       "      <td>10200</td>\n",
       "      <td>10400</td>\n",
       "      <td>10500</td>\n",
       "      <td>10700</td>\n",
       "      <td>11000</td>\n",
       "      <td>11400</td>\n",
       "      <td>11900</td>\n",
       "      <td>12400</td>\n",
       "    </tr>\n",
       "    <tr>\n",
       "      <th>2</th>\n",
       "      <td>Algeria</td>\n",
       "      <td>715</td>\n",
       "      <td>716</td>\n",
       "      <td>717</td>\n",
       "      <td>718</td>\n",
       "      <td>719</td>\n",
       "      <td>720</td>\n",
       "      <td>721</td>\n",
       "      <td>722</td>\n",
       "      <td>723</td>\n",
       "      <td>...</td>\n",
       "      <td>12600</td>\n",
       "      <td>12900</td>\n",
       "      <td>13000</td>\n",
       "      <td>13200</td>\n",
       "      <td>13300</td>\n",
       "      <td>13500</td>\n",
       "      <td>13700</td>\n",
       "      <td>14000</td>\n",
       "      <td>13800</td>\n",
       "      <td>13700</td>\n",
       "    </tr>\n",
       "    <tr>\n",
       "      <th>3</th>\n",
       "      <td>Andorra</td>\n",
       "      <td>1200</td>\n",
       "      <td>1200</td>\n",
       "      <td>1200</td>\n",
       "      <td>1200</td>\n",
       "      <td>1210</td>\n",
       "      <td>1210</td>\n",
       "      <td>1210</td>\n",
       "      <td>1210</td>\n",
       "      <td>1220</td>\n",
       "      <td>...</td>\n",
       "      <td>41700</td>\n",
       "      <td>39000</td>\n",
       "      <td>42000</td>\n",
       "      <td>41900</td>\n",
       "      <td>43700</td>\n",
       "      <td>44900</td>\n",
       "      <td>46600</td>\n",
       "      <td>48200</td>\n",
       "      <td>49800</td>\n",
       "      <td>51500</td>\n",
       "    </tr>\n",
       "    <tr>\n",
       "      <th>4</th>\n",
       "      <td>Angola</td>\n",
       "      <td>618</td>\n",
       "      <td>620</td>\n",
       "      <td>623</td>\n",
       "      <td>626</td>\n",
       "      <td>628</td>\n",
       "      <td>631</td>\n",
       "      <td>634</td>\n",
       "      <td>637</td>\n",
       "      <td>640</td>\n",
       "      <td>...</td>\n",
       "      <td>5910</td>\n",
       "      <td>5900</td>\n",
       "      <td>5910</td>\n",
       "      <td>6000</td>\n",
       "      <td>6190</td>\n",
       "      <td>6260</td>\n",
       "      <td>6230</td>\n",
       "      <td>6030</td>\n",
       "      <td>5940</td>\n",
       "      <td>5850</td>\n",
       "    </tr>\n",
       "  </tbody>\n",
       "</table>\n",
       "<p>5 rows × 220 columns</p>\n",
       "</div>"
      ],
      "text/plain": [
       "       country  1800  1801  1802  1803  1804  1805  1806  1807  1808  ...    \\\n",
       "0  Afghanistan   603   603   603   603   603   603   603   603   603  ...     \n",
       "1      Albania   667   667   667   667   667   668   668   668   668  ...     \n",
       "2      Algeria   715   716   717   718   719   720   721   722   723  ...     \n",
       "3      Andorra  1200  1200  1200  1200  1210  1210  1210  1210  1220  ...     \n",
       "4       Angola   618   620   623   626   628   631   634   637   640  ...     \n",
       "\n",
       "    2009   2010   2011   2012   2013   2014   2015   2016   2017   2018  \n",
       "0   1530   1610   1660   1840   1810   1780   1750   1740   1800   1870  \n",
       "1   9530   9930  10200  10400  10500  10700  11000  11400  11900  12400  \n",
       "2  12600  12900  13000  13200  13300  13500  13700  14000  13800  13700  \n",
       "3  41700  39000  42000  41900  43700  44900  46600  48200  49800  51500  \n",
       "4   5910   5900   5910   6000   6190   6260   6230   6030   5940   5850  \n",
       "\n",
       "[5 rows x 220 columns]"
      ]
     },
     "execution_count": 7,
     "metadata": {},
     "output_type": "execute_result"
    }
   ],
   "source": [
    "# Print out a few lines to have an intutitive idea about the data\n",
    "income.head()"
   ]
  },
  {
   "cell_type": "code",
   "execution_count": 8,
   "metadata": {
    "scrolled": false
   },
   "outputs": [
    {
     "name": "stdout",
     "output_type": "stream",
     "text": [
      "<class 'pandas.core.frame.DataFrame'>\n",
      "RangeIndex: 193 entries, 0 to 192\n",
      "Columns: 220 entries, country to 2018\n",
      "dtypes: int64(219), object(1)\n",
      "memory usage: 331.8+ KB\n"
     ]
    }
   ],
   "source": [
    "# inspect data types and look for instances of missing data\n",
    "income.info()"
   ]
  },
  {
   "cell_type": "code",
   "execution_count": 9,
   "metadata": {
    "scrolled": true
   },
   "outputs": [
    {
     "data": {
      "text/plain": [
       "0"
      ]
     },
     "execution_count": 9,
     "metadata": {},
     "output_type": "execute_result"
    }
   ],
   "source": [
    "# look for number of missing data for each column\n",
    "income.isna().sum().sum()"
   ]
  },
  {
   "cell_type": "markdown",
   "metadata": {},
   "source": [
    "No missing data for income"
   ]
  },
  {
   "cell_type": "code",
   "execution_count": 10,
   "metadata": {},
   "outputs": [
    {
     "data": {
      "text/plain": [
       "0"
      ]
     },
     "execution_count": 10,
     "metadata": {},
     "output_type": "execute_result"
    }
   ],
   "source": [
    "# check if there is any duplicated data\n",
    "sum(income.duplicated())"
   ]
  },
  {
   "cell_type": "markdown",
   "metadata": {},
   "source": [
    "No duplicated data for income"
   ]
  },
  {
   "cell_type": "code",
   "execution_count": 11,
   "metadata": {
    "scrolled": true
   },
   "outputs": [
    {
     "data": {
      "text/html": [
       "<div>\n",
       "<style scoped>\n",
       "    .dataframe tbody tr th:only-of-type {\n",
       "        vertical-align: middle;\n",
       "    }\n",
       "\n",
       "    .dataframe tbody tr th {\n",
       "        vertical-align: top;\n",
       "    }\n",
       "\n",
       "    .dataframe thead th {\n",
       "        text-align: right;\n",
       "    }\n",
       "</style>\n",
       "<table border=\"1\" class=\"dataframe\">\n",
       "  <thead>\n",
       "    <tr style=\"text-align: right;\">\n",
       "      <th></th>\n",
       "      <th>country</th>\n",
       "      <th>1970</th>\n",
       "      <th>1971</th>\n",
       "      <th>1972</th>\n",
       "      <th>1973</th>\n",
       "      <th>1974</th>\n",
       "      <th>1975</th>\n",
       "      <th>1976</th>\n",
       "      <th>1977</th>\n",
       "      <th>1978</th>\n",
       "      <th>...</th>\n",
       "      <th>2008</th>\n",
       "      <th>2009</th>\n",
       "      <th>2010</th>\n",
       "      <th>2011</th>\n",
       "      <th>2012</th>\n",
       "      <th>2013</th>\n",
       "      <th>2014</th>\n",
       "      <th>2015</th>\n",
       "      <th>2016</th>\n",
       "      <th>2017</th>\n",
       "    </tr>\n",
       "  </thead>\n",
       "  <tbody>\n",
       "    <tr>\n",
       "      <th>0</th>\n",
       "      <td>Afghanistan</td>\n",
       "      <td>NaN</td>\n",
       "      <td>NaN</td>\n",
       "      <td>NaN</td>\n",
       "      <td>NaN</td>\n",
       "      <td>16.8</td>\n",
       "      <td>NaN</td>\n",
       "      <td>NaN</td>\n",
       "      <td>17.4</td>\n",
       "      <td>19.1</td>\n",
       "      <td>...</td>\n",
       "      <td>NaN</td>\n",
       "      <td>NaN</td>\n",
       "      <td>NaN</td>\n",
       "      <td>NaN</td>\n",
       "      <td>NaN</td>\n",
       "      <td>NaN</td>\n",
       "      <td>NaN</td>\n",
       "      <td>NaN</td>\n",
       "      <td>NaN</td>\n",
       "      <td>NaN</td>\n",
       "    </tr>\n",
       "    <tr>\n",
       "      <th>1</th>\n",
       "      <td>Albania</td>\n",
       "      <td>NaN</td>\n",
       "      <td>NaN</td>\n",
       "      <td>NaN</td>\n",
       "      <td>NaN</td>\n",
       "      <td>NaN</td>\n",
       "      <td>NaN</td>\n",
       "      <td>NaN</td>\n",
       "      <td>NaN</td>\n",
       "      <td>NaN</td>\n",
       "      <td>...</td>\n",
       "      <td>92.8</td>\n",
       "      <td>91.5</td>\n",
       "      <td>89.2</td>\n",
       "      <td>93.3</td>\n",
       "      <td>98.9</td>\n",
       "      <td>91.0</td>\n",
       "      <td>105.0</td>\n",
       "      <td>104.0</td>\n",
       "      <td>106.0</td>\n",
       "      <td>NaN</td>\n",
       "    </tr>\n",
       "    <tr>\n",
       "      <th>2</th>\n",
       "      <td>Algeria</td>\n",
       "      <td>NaN</td>\n",
       "      <td>NaN</td>\n",
       "      <td>41.3</td>\n",
       "      <td>43.3</td>\n",
       "      <td>45.6</td>\n",
       "      <td>51.2</td>\n",
       "      <td>57.4</td>\n",
       "      <td>60.5</td>\n",
       "      <td>63.2</td>\n",
       "      <td>...</td>\n",
       "      <td>113.0</td>\n",
       "      <td>91.8</td>\n",
       "      <td>95.5</td>\n",
       "      <td>97.6</td>\n",
       "      <td>101.0</td>\n",
       "      <td>106.0</td>\n",
       "      <td>108.0</td>\n",
       "      <td>105.0</td>\n",
       "      <td>105.0</td>\n",
       "      <td>NaN</td>\n",
       "    </tr>\n",
       "    <tr>\n",
       "      <th>3</th>\n",
       "      <td>Angola</td>\n",
       "      <td>NaN</td>\n",
       "      <td>NaN</td>\n",
       "      <td>NaN</td>\n",
       "      <td>NaN</td>\n",
       "      <td>NaN</td>\n",
       "      <td>NaN</td>\n",
       "      <td>NaN</td>\n",
       "      <td>NaN</td>\n",
       "      <td>NaN</td>\n",
       "      <td>...</td>\n",
       "      <td>39.3</td>\n",
       "      <td>38.8</td>\n",
       "      <td>39.8</td>\n",
       "      <td>46.1</td>\n",
       "      <td>NaN</td>\n",
       "      <td>NaN</td>\n",
       "      <td>NaN</td>\n",
       "      <td>NaN</td>\n",
       "      <td>NaN</td>\n",
       "      <td>NaN</td>\n",
       "    </tr>\n",
       "    <tr>\n",
       "      <th>4</th>\n",
       "      <td>Antigua and Barbuda</td>\n",
       "      <td>NaN</td>\n",
       "      <td>NaN</td>\n",
       "      <td>NaN</td>\n",
       "      <td>NaN</td>\n",
       "      <td>NaN</td>\n",
       "      <td>78.4</td>\n",
       "      <td>77.7</td>\n",
       "      <td>NaN</td>\n",
       "      <td>NaN</td>\n",
       "      <td>...</td>\n",
       "      <td>95.3</td>\n",
       "      <td>88.1</td>\n",
       "      <td>93.8</td>\n",
       "      <td>91.1</td>\n",
       "      <td>NaN</td>\n",
       "      <td>NaN</td>\n",
       "      <td>92.8</td>\n",
       "      <td>76.9</td>\n",
       "      <td>NaN</td>\n",
       "      <td>NaN</td>\n",
       "    </tr>\n",
       "  </tbody>\n",
       "</table>\n",
       "<p>5 rows × 49 columns</p>\n",
       "</div>"
      ],
      "text/plain": [
       "               country  1970  1971  1972  1973  1974  1975  1976  1977  1978  \\\n",
       "0          Afghanistan   NaN   NaN   NaN   NaN  16.8   NaN   NaN  17.4  19.1   \n",
       "1              Albania   NaN   NaN   NaN   NaN   NaN   NaN   NaN   NaN   NaN   \n",
       "2              Algeria   NaN   NaN  41.3  43.3  45.6  51.2  57.4  60.5  63.2   \n",
       "3               Angola   NaN   NaN   NaN   NaN   NaN   NaN   NaN   NaN   NaN   \n",
       "4  Antigua and Barbuda   NaN   NaN   NaN   NaN   NaN  78.4  77.7   NaN   NaN   \n",
       "\n",
       "   ...    2008  2009  2010  2011   2012   2013   2014   2015   2016  2017  \n",
       "0  ...     NaN   NaN   NaN   NaN    NaN    NaN    NaN    NaN    NaN   NaN  \n",
       "1  ...    92.8  91.5  89.2  93.3   98.9   91.0  105.0  104.0  106.0   NaN  \n",
       "2  ...   113.0  91.8  95.5  97.6  101.0  106.0  108.0  105.0  105.0   NaN  \n",
       "3  ...    39.3  38.8  39.8  46.1    NaN    NaN    NaN    NaN    NaN   NaN  \n",
       "4  ...    95.3  88.1  93.8  91.1    NaN    NaN   92.8   76.9    NaN   NaN  \n",
       "\n",
       "[5 rows x 49 columns]"
      ]
     },
     "execution_count": 11,
     "metadata": {},
     "output_type": "execute_result"
    }
   ],
   "source": [
    "# Print out a few lines to have an intutitive idea about the data\n",
    "school.head()"
   ]
  },
  {
   "cell_type": "code",
   "execution_count": 12,
   "metadata": {
    "scrolled": true
   },
   "outputs": [
    {
     "name": "stdout",
     "output_type": "stream",
     "text": [
      "<class 'pandas.core.frame.DataFrame'>\n",
      "RangeIndex: 185 entries, 0 to 184\n",
      "Data columns (total 49 columns):\n",
      "country    185 non-null object\n",
      "1970       16 non-null float64\n",
      "1971       65 non-null float64\n",
      "1972       69 non-null float64\n",
      "1973       67 non-null float64\n",
      "1974       74 non-null float64\n",
      "1975       73 non-null float64\n",
      "1976       85 non-null float64\n",
      "1977       85 non-null float64\n",
      "1978       84 non-null float64\n",
      "1979       78 non-null float64\n",
      "1980       79 non-null float64\n",
      "1981       84 non-null float64\n",
      "1982       79 non-null float64\n",
      "1983       85 non-null float64\n",
      "1984       85 non-null float64\n",
      "1985       80 non-null float64\n",
      "1986       76 non-null float64\n",
      "1987       82 non-null float64\n",
      "1988       84 non-null float64\n",
      "1989       74 non-null float64\n",
      "1990       72 non-null float64\n",
      "1991       77 non-null float64\n",
      "1992       84 non-null float64\n",
      "1993       79 non-null float64\n",
      "1994       88 non-null float64\n",
      "1995       83 non-null float64\n",
      "1996       78 non-null float64\n",
      "1997       67 non-null float64\n",
      "1998       65 non-null float64\n",
      "1999       121 non-null float64\n",
      "2000       120 non-null float64\n",
      "2001       122 non-null float64\n",
      "2002       124 non-null float64\n",
      "2003       118 non-null float64\n",
      "2004       126 non-null float64\n",
      "2005       125 non-null float64\n",
      "2006       119 non-null float64\n",
      "2007       124 non-null float64\n",
      "2008       128 non-null float64\n",
      "2009       131 non-null float64\n",
      "2010       128 non-null float64\n",
      "2011       127 non-null float64\n",
      "2012       131 non-null float64\n",
      "2013       125 non-null float64\n",
      "2014       119 non-null float64\n",
      "2015       121 non-null float64\n",
      "2016       92 non-null float64\n",
      "2017       9 non-null float64\n",
      "dtypes: float64(48), object(1)\n",
      "memory usage: 70.9+ KB\n"
     ]
    }
   ],
   "source": [
    "# inspect data types and look for instances of missing data\n",
    "school.info()"
   ]
  },
  {
   "cell_type": "code",
   "execution_count": 13,
   "metadata": {
    "scrolled": true
   },
   "outputs": [
    {
     "data": {
      "text/plain": [
       "country      0\n",
       "1970       169\n",
       "1971       120\n",
       "1972       116\n",
       "1973       118\n",
       "1974       111\n",
       "1975       112\n",
       "1976       100\n",
       "1977       100\n",
       "1978       101\n",
       "1979       107\n",
       "1980       106\n",
       "1981       101\n",
       "1982       106\n",
       "1983       100\n",
       "1984       100\n",
       "1985       105\n",
       "1986       109\n",
       "1987       103\n",
       "1988       101\n",
       "1989       111\n",
       "1990       113\n",
       "1991       108\n",
       "1992       101\n",
       "1993       106\n",
       "1994        97\n",
       "1995       102\n",
       "1996       107\n",
       "1997       118\n",
       "1998       120\n",
       "1999        64\n",
       "2000        65\n",
       "2001        63\n",
       "2002        61\n",
       "2003        67\n",
       "2004        59\n",
       "2005        60\n",
       "2006        66\n",
       "2007        61\n",
       "2008        57\n",
       "2009        54\n",
       "2010        57\n",
       "2011        58\n",
       "2012        54\n",
       "2013        60\n",
       "2014        66\n",
       "2015        64\n",
       "2016        93\n",
       "2017       176\n",
       "dtype: int64"
      ]
     },
     "execution_count": 13,
     "metadata": {},
     "output_type": "execute_result"
    }
   ],
   "source": [
    "# look for number of missing data for each column\n",
    "school.isna().sum()"
   ]
  },
  {
   "cell_type": "markdown",
   "metadata": {},
   "source": [
    "There are a lot of missing data for primary completion rate data. But, the values are missing because they are not collected and there is no good way to fill the missing values, so the rows with missing values will be dropped during analysis. "
   ]
  },
  {
   "cell_type": "code",
   "execution_count": 14,
   "metadata": {},
   "outputs": [
    {
     "data": {
      "text/plain": [
       "0"
      ]
     },
     "execution_count": 14,
     "metadata": {},
     "output_type": "execute_result"
    }
   ],
   "source": [
    "# check if there is any duplicated data\n",
    "sum(school.duplicated())"
   ]
  },
  {
   "cell_type": "markdown",
   "metadata": {},
   "source": [
    "No duplicated data for primary completion rate data"
   ]
  },
  {
   "cell_type": "code",
   "execution_count": 15,
   "metadata": {
    "scrolled": true
   },
   "outputs": [
    {
     "data": {
      "text/html": [
       "<div>\n",
       "<style scoped>\n",
       "    .dataframe tbody tr th:only-of-type {\n",
       "        vertical-align: middle;\n",
       "    }\n",
       "\n",
       "    .dataframe tbody tr th {\n",
       "        vertical-align: top;\n",
       "    }\n",
       "\n",
       "    .dataframe thead th {\n",
       "        text-align: right;\n",
       "    }\n",
       "</style>\n",
       "<table border=\"1\" class=\"dataframe\">\n",
       "  <thead>\n",
       "    <tr style=\"text-align: right;\">\n",
       "      <th></th>\n",
       "      <th>country</th>\n",
       "      <th>1990</th>\n",
       "      <th>1991</th>\n",
       "      <th>1992</th>\n",
       "      <th>1993</th>\n",
       "      <th>1994</th>\n",
       "      <th>1995</th>\n",
       "      <th>1996</th>\n",
       "      <th>1997</th>\n",
       "      <th>1998</th>\n",
       "      <th>...</th>\n",
       "      <th>2008</th>\n",
       "      <th>2009</th>\n",
       "      <th>2010</th>\n",
       "      <th>2011</th>\n",
       "      <th>2012</th>\n",
       "      <th>2013</th>\n",
       "      <th>2014</th>\n",
       "      <th>2015</th>\n",
       "      <th>2016</th>\n",
       "      <th>2017</th>\n",
       "    </tr>\n",
       "  </thead>\n",
       "  <tbody>\n",
       "    <tr>\n",
       "      <th>0</th>\n",
       "      <td>Albania</td>\n",
       "      <td>NaN</td>\n",
       "      <td>NaN</td>\n",
       "      <td>NaN</td>\n",
       "      <td>NaN</td>\n",
       "      <td>NaN</td>\n",
       "      <td>NaN</td>\n",
       "      <td>NaN</td>\n",
       "      <td>NaN</td>\n",
       "      <td>NaN</td>\n",
       "      <td>...</td>\n",
       "      <td>4.50</td>\n",
       "      <td>4.910</td>\n",
       "      <td>5.670</td>\n",
       "      <td>5.280</td>\n",
       "      <td>5.300</td>\n",
       "      <td>5.530</td>\n",
       "      <td>5.760</td>\n",
       "      <td>6.09</td>\n",
       "      <td>NaN</td>\n",
       "      <td>NaN</td>\n",
       "    </tr>\n",
       "    <tr>\n",
       "      <th>1</th>\n",
       "      <td>Algeria</td>\n",
       "      <td>NaN</td>\n",
       "      <td>NaN</td>\n",
       "      <td>NaN</td>\n",
       "      <td>NaN</td>\n",
       "      <td>NaN</td>\n",
       "      <td>NaN</td>\n",
       "      <td>NaN</td>\n",
       "      <td>NaN</td>\n",
       "      <td>NaN</td>\n",
       "      <td>...</td>\n",
       "      <td>NaN</td>\n",
       "      <td>NaN</td>\n",
       "      <td>NaN</td>\n",
       "      <td>NaN</td>\n",
       "      <td>NaN</td>\n",
       "      <td>NaN</td>\n",
       "      <td>2.150</td>\n",
       "      <td>NaN</td>\n",
       "      <td>NaN</td>\n",
       "      <td>NaN</td>\n",
       "    </tr>\n",
       "    <tr>\n",
       "      <th>2</th>\n",
       "      <td>Angola</td>\n",
       "      <td>NaN</td>\n",
       "      <td>NaN</td>\n",
       "      <td>NaN</td>\n",
       "      <td>NaN</td>\n",
       "      <td>NaN</td>\n",
       "      <td>NaN</td>\n",
       "      <td>NaN</td>\n",
       "      <td>NaN</td>\n",
       "      <td>NaN</td>\n",
       "      <td>...</td>\n",
       "      <td>NaN</td>\n",
       "      <td>NaN</td>\n",
       "      <td>NaN</td>\n",
       "      <td>1.560</td>\n",
       "      <td>NaN</td>\n",
       "      <td>NaN</td>\n",
       "      <td>NaN</td>\n",
       "      <td>NaN</td>\n",
       "      <td>NaN</td>\n",
       "      <td>NaN</td>\n",
       "    </tr>\n",
       "    <tr>\n",
       "      <th>3</th>\n",
       "      <td>Argentina</td>\n",
       "      <td>NaN</td>\n",
       "      <td>NaN</td>\n",
       "      <td>NaN</td>\n",
       "      <td>NaN</td>\n",
       "      <td>NaN</td>\n",
       "      <td>NaN</td>\n",
       "      <td>NaN</td>\n",
       "      <td>NaN</td>\n",
       "      <td>NaN</td>\n",
       "      <td>...</td>\n",
       "      <td>0.88</td>\n",
       "      <td>0.925</td>\n",
       "      <td>0.866</td>\n",
       "      <td>0.783</td>\n",
       "      <td>0.811</td>\n",
       "      <td>0.798</td>\n",
       "      <td>0.856</td>\n",
       "      <td>NaN</td>\n",
       "      <td>NaN</td>\n",
       "      <td>1.14</td>\n",
       "    </tr>\n",
       "    <tr>\n",
       "      <th>4</th>\n",
       "      <td>Armenia</td>\n",
       "      <td>NaN</td>\n",
       "      <td>NaN</td>\n",
       "      <td>NaN</td>\n",
       "      <td>NaN</td>\n",
       "      <td>NaN</td>\n",
       "      <td>NaN</td>\n",
       "      <td>NaN</td>\n",
       "      <td>NaN</td>\n",
       "      <td>NaN</td>\n",
       "      <td>...</td>\n",
       "      <td>NaN</td>\n",
       "      <td>NaN</td>\n",
       "      <td>NaN</td>\n",
       "      <td>NaN</td>\n",
       "      <td>NaN</td>\n",
       "      <td>NaN</td>\n",
       "      <td>7.150</td>\n",
       "      <td>7.11</td>\n",
       "      <td>5.4</td>\n",
       "      <td>NaN</td>\n",
       "    </tr>\n",
       "  </tbody>\n",
       "</table>\n",
       "<p>5 rows × 29 columns</p>\n",
       "</div>"
      ],
      "text/plain": [
       "     country  1990  1991  1992  1993  1994  1995  1996  1997  1998  ...   \\\n",
       "0    Albania   NaN   NaN   NaN   NaN   NaN   NaN   NaN   NaN   NaN  ...    \n",
       "1    Algeria   NaN   NaN   NaN   NaN   NaN   NaN   NaN   NaN   NaN  ...    \n",
       "2     Angola   NaN   NaN   NaN   NaN   NaN   NaN   NaN   NaN   NaN  ...    \n",
       "3  Argentina   NaN   NaN   NaN   NaN   NaN   NaN   NaN   NaN   NaN  ...    \n",
       "4    Armenia   NaN   NaN   NaN   NaN   NaN   NaN   NaN   NaN   NaN  ...    \n",
       "\n",
       "   2008   2009   2010   2011   2012   2013   2014  2015  2016  2017  \n",
       "0  4.50  4.910  5.670  5.280  5.300  5.530  5.760  6.09   NaN   NaN  \n",
       "1   NaN    NaN    NaN    NaN    NaN    NaN  2.150   NaN   NaN   NaN  \n",
       "2   NaN    NaN    NaN  1.560    NaN    NaN    NaN   NaN   NaN   NaN  \n",
       "3  0.88  0.925  0.866  0.783  0.811  0.798  0.856   NaN   NaN  1.14  \n",
       "4   NaN    NaN    NaN    NaN    NaN    NaN  7.150  7.11   5.4   NaN  \n",
       "\n",
       "[5 rows x 29 columns]"
      ]
     },
     "execution_count": 15,
     "metadata": {},
     "output_type": "execute_result"
    }
   ],
   "source": [
    "# Print out a few lines to have an intutitive idea about the data\n",
    "employ.head()"
   ]
  },
  {
   "cell_type": "code",
   "execution_count": 16,
   "metadata": {
    "scrolled": true
   },
   "outputs": [
    {
     "name": "stdout",
     "output_type": "stream",
     "text": [
      "<class 'pandas.core.frame.DataFrame'>\n",
      "RangeIndex: 122 entries, 0 to 121\n",
      "Data columns (total 29 columns):\n",
      "country    122 non-null object\n",
      "1990       11 non-null float64\n",
      "1991       13 non-null float64\n",
      "1992       26 non-null float64\n",
      "1993       28 non-null float64\n",
      "1994       29 non-null float64\n",
      "1995       33 non-null float64\n",
      "1996       34 non-null float64\n",
      "1997       35 non-null float64\n",
      "1998       37 non-null float64\n",
      "1999       38 non-null float64\n",
      "2000       43 non-null float64\n",
      "2001       46 non-null float64\n",
      "2002       48 non-null float64\n",
      "2003       50 non-null float64\n",
      "2004       52 non-null float64\n",
      "2005       56 non-null float64\n",
      "2006       58 non-null float64\n",
      "2007       58 non-null float64\n",
      "2008       64 non-null float64\n",
      "2009       77 non-null float64\n",
      "2010       77 non-null float64\n",
      "2011       79 non-null float64\n",
      "2012       84 non-null float64\n",
      "2013       82 non-null float64\n",
      "2014       82 non-null float64\n",
      "2015       77 non-null float64\n",
      "2016       80 non-null float64\n",
      "2017       75 non-null float64\n",
      "dtypes: float64(28), object(1)\n",
      "memory usage: 27.7+ KB\n"
     ]
    }
   ],
   "source": [
    "# inspect data types and look for instances of missing data\n",
    "employ.info()"
   ]
  },
  {
   "cell_type": "markdown",
   "metadata": {},
   "source": [
    "There are a lot of missing data. And, there are only 122 entries which is much less than other variables. So, when merging with other varibles, an outer join will be used."
   ]
  },
  {
   "cell_type": "code",
   "execution_count": 17,
   "metadata": {
    "scrolled": true
   },
   "outputs": [
    {
     "data": {
      "text/plain": [
       "country      0\n",
       "1990       111\n",
       "1991       109\n",
       "1992        96\n",
       "1993        94\n",
       "1994        93\n",
       "1995        89\n",
       "1996        88\n",
       "1997        87\n",
       "1998        85\n",
       "1999        84\n",
       "2000        79\n",
       "2001        76\n",
       "2002        74\n",
       "2003        72\n",
       "2004        70\n",
       "2005        66\n",
       "2006        64\n",
       "2007        64\n",
       "2008        58\n",
       "2009        45\n",
       "2010        45\n",
       "2011        43\n",
       "2012        38\n",
       "2013        40\n",
       "2014        40\n",
       "2015        45\n",
       "2016        42\n",
       "2017        47\n",
       "dtype: int64"
      ]
     },
     "execution_count": 17,
     "metadata": {},
     "output_type": "execute_result"
    }
   ],
   "source": [
    "# look for number of missing data for each column\n",
    "employ.isna().sum()"
   ]
  },
  {
   "cell_type": "markdown",
   "metadata": {},
   "source": [
    "There are a lot of missing data. But, the values are missing because they are not collected and there is no good way to fill the missing values, so the rows with missing values will be dropped during analysis. "
   ]
  },
  {
   "cell_type": "code",
   "execution_count": 18,
   "metadata": {},
   "outputs": [
    {
     "data": {
      "text/plain": [
       "0"
      ]
     },
     "execution_count": 18,
     "metadata": {},
     "output_type": "execute_result"
    }
   ],
   "source": [
    "# check if there is any duplicated data\n",
    "sum(employ.duplicated())"
   ]
  },
  {
   "cell_type": "markdown",
   "metadata": {},
   "source": [
    "No duplicated data for long term unemployment rate."
   ]
  },
  {
   "cell_type": "code",
   "execution_count": 19,
   "metadata": {
    "scrolled": true
   },
   "outputs": [
    {
     "data": {
      "text/html": [
       "<div>\n",
       "<style scoped>\n",
       "    .dataframe tbody tr th:only-of-type {\n",
       "        vertical-align: middle;\n",
       "    }\n",
       "\n",
       "    .dataframe tbody tr th {\n",
       "        vertical-align: top;\n",
       "    }\n",
       "\n",
       "    .dataframe thead th {\n",
       "        text-align: right;\n",
       "    }\n",
       "</style>\n",
       "<table border=\"1\" class=\"dataframe\">\n",
       "  <thead>\n",
       "    <tr style=\"text-align: right;\">\n",
       "      <th></th>\n",
       "      <th>country</th>\n",
       "      <th>2000</th>\n",
       "      <th>2001</th>\n",
       "      <th>2002</th>\n",
       "      <th>2003</th>\n",
       "      <th>2004</th>\n",
       "      <th>2005</th>\n",
       "      <th>2006</th>\n",
       "      <th>2007</th>\n",
       "      <th>2008</th>\n",
       "      <th>2009</th>\n",
       "      <th>2010</th>\n",
       "      <th>2011</th>\n",
       "      <th>2012</th>\n",
       "      <th>2013</th>\n",
       "      <th>2014</th>\n",
       "      <th>2015</th>\n",
       "    </tr>\n",
       "  </thead>\n",
       "  <tbody>\n",
       "    <tr>\n",
       "      <th>0</th>\n",
       "      <td>Afghanistan</td>\n",
       "      <td>23.9</td>\n",
       "      <td>23.9</td>\n",
       "      <td>25.0</td>\n",
       "      <td>26.0</td>\n",
       "      <td>27.1</td>\n",
       "      <td>28.1</td>\n",
       "      <td>29.2</td>\n",
       "      <td>30.3</td>\n",
       "      <td>31.4</td>\n",
       "      <td>32.5</td>\n",
       "      <td>33.6</td>\n",
       "      <td>34.7</td>\n",
       "      <td>35.8</td>\n",
       "      <td>36.9</td>\n",
       "      <td>38.1</td>\n",
       "      <td>39.2</td>\n",
       "    </tr>\n",
       "    <tr>\n",
       "      <th>1</th>\n",
       "      <td>Albania</td>\n",
       "      <td>88.3</td>\n",
       "      <td>89.1</td>\n",
       "      <td>89.9</td>\n",
       "      <td>90.7</td>\n",
       "      <td>91.4</td>\n",
       "      <td>92.2</td>\n",
       "      <td>92.9</td>\n",
       "      <td>93.6</td>\n",
       "      <td>94.3</td>\n",
       "      <td>94.9</td>\n",
       "      <td>95.6</td>\n",
       "      <td>96.2</td>\n",
       "      <td>96.8</td>\n",
       "      <td>97.3</td>\n",
       "      <td>97.7</td>\n",
       "      <td>97.7</td>\n",
       "    </tr>\n",
       "    <tr>\n",
       "      <th>2</th>\n",
       "      <td>Algeria</td>\n",
       "      <td>83.7</td>\n",
       "      <td>84.1</td>\n",
       "      <td>84.4</td>\n",
       "      <td>84.7</td>\n",
       "      <td>85.0</td>\n",
       "      <td>85.3</td>\n",
       "      <td>85.6</td>\n",
       "      <td>85.8</td>\n",
       "      <td>86.1</td>\n",
       "      <td>86.3</td>\n",
       "      <td>86.6</td>\n",
       "      <td>86.8</td>\n",
       "      <td>87.0</td>\n",
       "      <td>87.2</td>\n",
       "      <td>87.3</td>\n",
       "      <td>87.5</td>\n",
       "    </tr>\n",
       "    <tr>\n",
       "      <th>3</th>\n",
       "      <td>Andorra</td>\n",
       "      <td>100.0</td>\n",
       "      <td>100.0</td>\n",
       "      <td>100.0</td>\n",
       "      <td>100.0</td>\n",
       "      <td>100.0</td>\n",
       "      <td>100.0</td>\n",
       "      <td>100.0</td>\n",
       "      <td>100.0</td>\n",
       "      <td>100.0</td>\n",
       "      <td>100.0</td>\n",
       "      <td>100.0</td>\n",
       "      <td>100.0</td>\n",
       "      <td>100.0</td>\n",
       "      <td>100.0</td>\n",
       "      <td>100.0</td>\n",
       "      <td>100.0</td>\n",
       "    </tr>\n",
       "    <tr>\n",
       "      <th>4</th>\n",
       "      <td>Angola</td>\n",
       "      <td>20.5</td>\n",
       "      <td>21.7</td>\n",
       "      <td>23.0</td>\n",
       "      <td>24.2</td>\n",
       "      <td>25.5</td>\n",
       "      <td>26.7</td>\n",
       "      <td>28.0</td>\n",
       "      <td>29.3</td>\n",
       "      <td>30.5</td>\n",
       "      <td>31.8</td>\n",
       "      <td>33.1</td>\n",
       "      <td>34.3</td>\n",
       "      <td>35.6</td>\n",
       "      <td>36.9</td>\n",
       "      <td>38.2</td>\n",
       "      <td>39.4</td>\n",
       "    </tr>\n",
       "  </tbody>\n",
       "</table>\n",
       "</div>"
      ],
      "text/plain": [
       "       country   2000   2001   2002   2003   2004   2005   2006   2007   2008  \\\n",
       "0  Afghanistan   23.9   23.9   25.0   26.0   27.1   28.1   29.2   30.3   31.4   \n",
       "1      Albania   88.3   89.1   89.9   90.7   91.4   92.2   92.9   93.6   94.3   \n",
       "2      Algeria   83.7   84.1   84.4   84.7   85.0   85.3   85.6   85.8   86.1   \n",
       "3      Andorra  100.0  100.0  100.0  100.0  100.0  100.0  100.0  100.0  100.0   \n",
       "4       Angola   20.5   21.7   23.0   24.2   25.5   26.7   28.0   29.3   30.5   \n",
       "\n",
       "    2009   2010   2011   2012   2013   2014   2015  \n",
       "0   32.5   33.6   34.7   35.8   36.9   38.1   39.2  \n",
       "1   94.9   95.6   96.2   96.8   97.3   97.7   97.7  \n",
       "2   86.3   86.6   86.8   87.0   87.2   87.3   87.5  \n",
       "3  100.0  100.0  100.0  100.0  100.0  100.0  100.0  \n",
       "4   31.8   33.1   34.3   35.6   36.9   38.2   39.4  "
      ]
     },
     "execution_count": 19,
     "metadata": {},
     "output_type": "execute_result"
    }
   ],
   "source": [
    "# Print out a few lines to have an intutitive idea about the data\n",
    "sanitation.head()"
   ]
  },
  {
   "cell_type": "code",
   "execution_count": 20,
   "metadata": {
    "scrolled": true
   },
   "outputs": [
    {
     "name": "stdout",
     "output_type": "stream",
     "text": [
      "<class 'pandas.core.frame.DataFrame'>\n",
      "RangeIndex: 194 entries, 0 to 193\n",
      "Data columns (total 17 columns):\n",
      "country    194 non-null object\n",
      "2000       183 non-null float64\n",
      "2001       185 non-null float64\n",
      "2002       188 non-null float64\n",
      "2003       188 non-null float64\n",
      "2004       188 non-null float64\n",
      "2005       188 non-null float64\n",
      "2006       192 non-null float64\n",
      "2007       193 non-null float64\n",
      "2008       193 non-null float64\n",
      "2009       193 non-null float64\n",
      "2010       193 non-null float64\n",
      "2011       194 non-null float64\n",
      "2012       194 non-null float64\n",
      "2013       194 non-null float64\n",
      "2014       193 non-null float64\n",
      "2015       192 non-null float64\n",
      "dtypes: float64(16), object(1)\n",
      "memory usage: 25.8+ KB\n"
     ]
    }
   ],
   "source": [
    "# inspect data types and look for instances of missing data\n",
    "sanitation.info()"
   ]
  },
  {
   "cell_type": "code",
   "execution_count": 21,
   "metadata": {},
   "outputs": [
    {
     "data": {
      "text/plain": [
       "country     0\n",
       "2000       11\n",
       "2001        9\n",
       "2002        6\n",
       "2003        6\n",
       "2004        6\n",
       "2005        6\n",
       "2006        2\n",
       "2007        1\n",
       "2008        1\n",
       "2009        1\n",
       "2010        1\n",
       "2011        0\n",
       "2012        0\n",
       "2013        0\n",
       "2014        1\n",
       "2015        2\n",
       "dtype: int64"
      ]
     },
     "execution_count": 21,
     "metadata": {},
     "output_type": "execute_result"
    }
   ],
   "source": [
    "# look for number of missing data for each column\n",
    "sanitation.isna().sum()"
   ]
  },
  {
   "cell_type": "markdown",
   "metadata": {},
   "source": [
    "There are only few missing data for sanitation for some of the columns so that the rows can be dropped."
   ]
  },
  {
   "cell_type": "code",
   "execution_count": 22,
   "metadata": {},
   "outputs": [
    {
     "data": {
      "text/plain": [
       "0"
      ]
     },
     "execution_count": 22,
     "metadata": {},
     "output_type": "execute_result"
    }
   ],
   "source": [
    "# check if there is any duplicated data\n",
    "sum(sanitation.duplicated())"
   ]
  },
  {
   "cell_type": "markdown",
   "metadata": {},
   "source": [
    "No duplicated data for sanitation"
   ]
  },
  {
   "cell_type": "code",
   "execution_count": 23,
   "metadata": {},
   "outputs": [
    {
     "data": {
      "text/html": [
       "<div>\n",
       "<style scoped>\n",
       "    .dataframe tbody tr th:only-of-type {\n",
       "        vertical-align: middle;\n",
       "    }\n",
       "\n",
       "    .dataframe tbody tr th {\n",
       "        vertical-align: top;\n",
       "    }\n",
       "\n",
       "    .dataframe thead th {\n",
       "        text-align: right;\n",
       "    }\n",
       "</style>\n",
       "<table border=\"1\" class=\"dataframe\">\n",
       "  <thead>\n",
       "    <tr style=\"text-align: right;\">\n",
       "      <th></th>\n",
       "      <th>country</th>\n",
       "      <th>1950</th>\n",
       "      <th>1951</th>\n",
       "      <th>1952</th>\n",
       "      <th>1953</th>\n",
       "      <th>1954</th>\n",
       "      <th>1955</th>\n",
       "      <th>1956</th>\n",
       "      <th>1957</th>\n",
       "      <th>1958</th>\n",
       "      <th>...</th>\n",
       "      <th>2091</th>\n",
       "      <th>2092</th>\n",
       "      <th>2093</th>\n",
       "      <th>2094</th>\n",
       "      <th>2095</th>\n",
       "      <th>2096</th>\n",
       "      <th>2097</th>\n",
       "      <th>2098</th>\n",
       "      <th>2099</th>\n",
       "      <th>2100</th>\n",
       "    </tr>\n",
       "  </thead>\n",
       "  <tbody>\n",
       "    <tr>\n",
       "      <th>0</th>\n",
       "      <td>Afghanistan</td>\n",
       "      <td>11.90</td>\n",
       "      <td>12.00</td>\n",
       "      <td>12.20</td>\n",
       "      <td>12.30</td>\n",
       "      <td>12.50</td>\n",
       "      <td>12.70</td>\n",
       "      <td>12.90</td>\n",
       "      <td>13.10</td>\n",
       "      <td>13.30</td>\n",
       "      <td>...</td>\n",
       "      <td>110.0</td>\n",
       "      <td>110.0</td>\n",
       "      <td>110.0</td>\n",
       "      <td>109.0</td>\n",
       "      <td>109.0</td>\n",
       "      <td>109.0</td>\n",
       "      <td>109.0</td>\n",
       "      <td>108.0</td>\n",
       "      <td>108.0</td>\n",
       "      <td>108.0</td>\n",
       "    </tr>\n",
       "    <tr>\n",
       "      <th>1</th>\n",
       "      <td>Albania</td>\n",
       "      <td>46.10</td>\n",
       "      <td>47.00</td>\n",
       "      <td>48.00</td>\n",
       "      <td>49.20</td>\n",
       "      <td>50.50</td>\n",
       "      <td>51.80</td>\n",
       "      <td>53.30</td>\n",
       "      <td>54.70</td>\n",
       "      <td>56.30</td>\n",
       "      <td>...</td>\n",
       "      <td>66.3</td>\n",
       "      <td>65.6</td>\n",
       "      <td>64.9</td>\n",
       "      <td>64.2</td>\n",
       "      <td>63.6</td>\n",
       "      <td>62.9</td>\n",
       "      <td>62.3</td>\n",
       "      <td>61.7</td>\n",
       "      <td>61.1</td>\n",
       "      <td>60.5</td>\n",
       "    </tr>\n",
       "    <tr>\n",
       "      <th>2</th>\n",
       "      <td>Algeria</td>\n",
       "      <td>3.73</td>\n",
       "      <td>3.80</td>\n",
       "      <td>3.87</td>\n",
       "      <td>3.95</td>\n",
       "      <td>4.03</td>\n",
       "      <td>4.13</td>\n",
       "      <td>4.23</td>\n",
       "      <td>4.33</td>\n",
       "      <td>4.44</td>\n",
       "      <td>...</td>\n",
       "      <td>26.4</td>\n",
       "      <td>26.4</td>\n",
       "      <td>26.4</td>\n",
       "      <td>26.4</td>\n",
       "      <td>26.4</td>\n",
       "      <td>26.4</td>\n",
       "      <td>26.3</td>\n",
       "      <td>26.3</td>\n",
       "      <td>26.3</td>\n",
       "      <td>26.3</td>\n",
       "    </tr>\n",
       "    <tr>\n",
       "      <th>3</th>\n",
       "      <td>Andorra</td>\n",
       "      <td>13.20</td>\n",
       "      <td>14.20</td>\n",
       "      <td>15.40</td>\n",
       "      <td>16.70</td>\n",
       "      <td>18.10</td>\n",
       "      <td>19.60</td>\n",
       "      <td>21.30</td>\n",
       "      <td>22.90</td>\n",
       "      <td>24.70</td>\n",
       "      <td>...</td>\n",
       "      <td>137.0</td>\n",
       "      <td>137.0</td>\n",
       "      <td>136.0</td>\n",
       "      <td>136.0</td>\n",
       "      <td>136.0</td>\n",
       "      <td>135.0</td>\n",
       "      <td>135.0</td>\n",
       "      <td>135.0</td>\n",
       "      <td>135.0</td>\n",
       "      <td>134.0</td>\n",
       "    </tr>\n",
       "    <tr>\n",
       "      <th>4</th>\n",
       "      <td>Angola</td>\n",
       "      <td>3.65</td>\n",
       "      <td>3.74</td>\n",
       "      <td>3.83</td>\n",
       "      <td>3.92</td>\n",
       "      <td>4.01</td>\n",
       "      <td>4.10</td>\n",
       "      <td>4.19</td>\n",
       "      <td>4.27</td>\n",
       "      <td>4.36</td>\n",
       "      <td>...</td>\n",
       "      <td>125.0</td>\n",
       "      <td>127.0</td>\n",
       "      <td>128.0</td>\n",
       "      <td>130.0</td>\n",
       "      <td>131.0</td>\n",
       "      <td>133.0</td>\n",
       "      <td>134.0</td>\n",
       "      <td>136.0</td>\n",
       "      <td>137.0</td>\n",
       "      <td>139.0</td>\n",
       "    </tr>\n",
       "  </tbody>\n",
       "</table>\n",
       "<p>5 rows × 152 columns</p>\n",
       "</div>"
      ],
      "text/plain": [
       "       country   1950   1951   1952   1953   1954   1955   1956   1957   1958  \\\n",
       "0  Afghanistan  11.90  12.00  12.20  12.30  12.50  12.70  12.90  13.10  13.30   \n",
       "1      Albania  46.10  47.00  48.00  49.20  50.50  51.80  53.30  54.70  56.30   \n",
       "2      Algeria   3.73   3.80   3.87   3.95   4.03   4.13   4.23   4.33   4.44   \n",
       "3      Andorra  13.20  14.20  15.40  16.70  18.10  19.60  21.30  22.90  24.70   \n",
       "4       Angola   3.65   3.74   3.83   3.92   4.01   4.10   4.19   4.27   4.36   \n",
       "\n",
       "   ...     2091   2092   2093   2094   2095   2096   2097   2098   2099   2100  \n",
       "0  ...    110.0  110.0  110.0  109.0  109.0  109.0  109.0  108.0  108.0  108.0  \n",
       "1  ...     66.3   65.6   64.9   64.2   63.6   62.9   62.3   61.7   61.1   60.5  \n",
       "2  ...     26.4   26.4   26.4   26.4   26.4   26.4   26.3   26.3   26.3   26.3  \n",
       "3  ...    137.0  137.0  136.0  136.0  136.0  135.0  135.0  135.0  135.0  134.0  \n",
       "4  ...    125.0  127.0  128.0  130.0  131.0  133.0  134.0  136.0  137.0  139.0  \n",
       "\n",
       "[5 rows x 152 columns]"
      ]
     },
     "execution_count": 23,
     "metadata": {},
     "output_type": "execute_result"
    }
   ],
   "source": [
    "# Print out a few lines to have an intutitive idea about the data\n",
    "population.head()"
   ]
  },
  {
   "cell_type": "code",
   "execution_count": 24,
   "metadata": {
    "scrolled": true
   },
   "outputs": [
    {
     "name": "stdout",
     "output_type": "stream",
     "text": [
      "<class 'pandas.core.frame.DataFrame'>\n",
      "RangeIndex: 195 entries, 0 to 194\n",
      "Columns: 152 entries, country to 2100\n",
      "dtypes: float64(151), object(1)\n",
      "memory usage: 231.6+ KB\n"
     ]
    }
   ],
   "source": [
    "# inspect data types and look for instances of missing data\n",
    "population.info()"
   ]
  },
  {
   "cell_type": "code",
   "execution_count": 25,
   "metadata": {},
   "outputs": [
    {
     "data": {
      "text/plain": [
       "0"
      ]
     },
     "execution_count": 25,
     "metadata": {},
     "output_type": "execute_result"
    }
   ],
   "source": [
    "# look for number of missing data for each column\n",
    "population.isna().sum().sum()"
   ]
  },
  {
   "cell_type": "markdown",
   "metadata": {},
   "source": [
    "No missing data for population"
   ]
  },
  {
   "cell_type": "code",
   "execution_count": 26,
   "metadata": {
    "scrolled": true
   },
   "outputs": [
    {
     "data": {
      "text/plain": [
       "0"
      ]
     },
     "execution_count": 26,
     "metadata": {},
     "output_type": "execute_result"
    }
   ],
   "source": [
    "# check if there is any duplicated data\n",
    "sum(population.duplicated())"
   ]
  },
  {
   "cell_type": "markdown",
   "metadata": {},
   "source": [
    "No duplicated data for population"
   ]
  },
  {
   "cell_type": "markdown",
   "metadata": {},
   "source": [
    "In summary, there are no missing data and duplicated data for income and population. Life, school, employ, and sanitation have no duplicated data, but have missing data. Employ data only has 122 entires. All the data types are okay. I will merge the data first and then deal with the missing value."
   ]
  },
  {
   "cell_type": "markdown",
   "metadata": {},
   "source": [
    "### Clean data"
   ]
  },
  {
   "cell_type": "markdown",
   "metadata": {},
   "source": [
    "#### Merge data"
   ]
  },
  {
   "cell_type": "code",
   "execution_count": 27,
   "metadata": {
    "scrolled": true
   },
   "outputs": [],
   "source": [
    "# select life expectancy data in 2008 and 2018\n",
    "life_08_18 = life.loc[:,['country', '2008', '2018']]\n",
    "\n",
    "# select income data in 2018.\n",
    "income_18 = income.loc[:,['country', '2018']]\n",
    "\n",
    "# since there are no primary completion rate data in 2018, and \n",
    "# there are more than half missing data in 2016 and 2017, \n",
    "# school data in 2015 was selected for analysis.\n",
    "school_15 = school.loc[:,['country', '2015']]\n",
    "\n",
    "# since there are no long term unemployment rate data from in 2018, \n",
    "# school data in 2017 was selected for analysis.\n",
    "employ_17 = employ.loc[:,['country', '2017']]\n",
    "\n",
    "# since there are no sanitation data from 2016 to 2018, \n",
    "# sanitation data in 2015 was selected for analysis.\n",
    "sanitation_15 = sanitation.loc[:,['country', '2015']]\n",
    "\n",
    "# select polulation data in 2018.\n",
    "population_18 = population.loc[:,['country', '2018']]"
   ]
  },
  {
   "cell_type": "code",
   "execution_count": 28,
   "metadata": {},
   "outputs": [
    {
     "data": {
      "text/html": [
       "<div>\n",
       "<style scoped>\n",
       "    .dataframe tbody tr th:only-of-type {\n",
       "        vertical-align: middle;\n",
       "    }\n",
       "\n",
       "    .dataframe tbody tr th {\n",
       "        vertical-align: top;\n",
       "    }\n",
       "\n",
       "    .dataframe thead th {\n",
       "        text-align: right;\n",
       "    }\n",
       "</style>\n",
       "<table border=\"1\" class=\"dataframe\">\n",
       "  <thead>\n",
       "    <tr style=\"text-align: right;\">\n",
       "      <th></th>\n",
       "      <th>country</th>\n",
       "      <th>2008</th>\n",
       "      <th>2018</th>\n",
       "    </tr>\n",
       "  </thead>\n",
       "  <tbody>\n",
       "    <tr>\n",
       "      <th>0</th>\n",
       "      <td>Afghanistan</td>\n",
       "      <td>55.2</td>\n",
       "      <td>58.7</td>\n",
       "    </tr>\n",
       "  </tbody>\n",
       "</table>\n",
       "</div>"
      ],
      "text/plain": [
       "       country  2008  2018\n",
       "0  Afghanistan  55.2  58.7"
      ]
     },
     "execution_count": 28,
     "metadata": {},
     "output_type": "execute_result"
    }
   ],
   "source": [
    "# check if the data selections are successful\n",
    "life_08_18.head(1)"
   ]
  },
  {
   "cell_type": "code",
   "execution_count": 29,
   "metadata": {},
   "outputs": [
    {
     "data": {
      "text/html": [
       "<div>\n",
       "<style scoped>\n",
       "    .dataframe tbody tr th:only-of-type {\n",
       "        vertical-align: middle;\n",
       "    }\n",
       "\n",
       "    .dataframe tbody tr th {\n",
       "        vertical-align: top;\n",
       "    }\n",
       "\n",
       "    .dataframe thead th {\n",
       "        text-align: right;\n",
       "    }\n",
       "</style>\n",
       "<table border=\"1\" class=\"dataframe\">\n",
       "  <thead>\n",
       "    <tr style=\"text-align: right;\">\n",
       "      <th></th>\n",
       "      <th>country</th>\n",
       "      <th>2018</th>\n",
       "    </tr>\n",
       "  </thead>\n",
       "  <tbody>\n",
       "    <tr>\n",
       "      <th>0</th>\n",
       "      <td>Afghanistan</td>\n",
       "      <td>1870</td>\n",
       "    </tr>\n",
       "  </tbody>\n",
       "</table>\n",
       "</div>"
      ],
      "text/plain": [
       "       country  2018\n",
       "0  Afghanistan  1870"
      ]
     },
     "execution_count": 29,
     "metadata": {},
     "output_type": "execute_result"
    }
   ],
   "source": [
    "income_18.head(1)"
   ]
  },
  {
   "cell_type": "code",
   "execution_count": 30,
   "metadata": {},
   "outputs": [
    {
     "data": {
      "text/html": [
       "<div>\n",
       "<style scoped>\n",
       "    .dataframe tbody tr th:only-of-type {\n",
       "        vertical-align: middle;\n",
       "    }\n",
       "\n",
       "    .dataframe tbody tr th {\n",
       "        vertical-align: top;\n",
       "    }\n",
       "\n",
       "    .dataframe thead th {\n",
       "        text-align: right;\n",
       "    }\n",
       "</style>\n",
       "<table border=\"1\" class=\"dataframe\">\n",
       "  <thead>\n",
       "    <tr style=\"text-align: right;\">\n",
       "      <th></th>\n",
       "      <th>country</th>\n",
       "      <th>2015</th>\n",
       "    </tr>\n",
       "  </thead>\n",
       "  <tbody>\n",
       "    <tr>\n",
       "      <th>0</th>\n",
       "      <td>Afghanistan</td>\n",
       "      <td>NaN</td>\n",
       "    </tr>\n",
       "  </tbody>\n",
       "</table>\n",
       "</div>"
      ],
      "text/plain": [
       "       country  2015\n",
       "0  Afghanistan   NaN"
      ]
     },
     "execution_count": 30,
     "metadata": {},
     "output_type": "execute_result"
    }
   ],
   "source": [
    "school_15.head(1)"
   ]
  },
  {
   "cell_type": "code",
   "execution_count": 31,
   "metadata": {},
   "outputs": [
    {
     "data": {
      "text/html": [
       "<div>\n",
       "<style scoped>\n",
       "    .dataframe tbody tr th:only-of-type {\n",
       "        vertical-align: middle;\n",
       "    }\n",
       "\n",
       "    .dataframe tbody tr th {\n",
       "        vertical-align: top;\n",
       "    }\n",
       "\n",
       "    .dataframe thead th {\n",
       "        text-align: right;\n",
       "    }\n",
       "</style>\n",
       "<table border=\"1\" class=\"dataframe\">\n",
       "  <thead>\n",
       "    <tr style=\"text-align: right;\">\n",
       "      <th></th>\n",
       "      <th>country</th>\n",
       "      <th>2017</th>\n",
       "    </tr>\n",
       "  </thead>\n",
       "  <tbody>\n",
       "    <tr>\n",
       "      <th>0</th>\n",
       "      <td>Albania</td>\n",
       "      <td>NaN</td>\n",
       "    </tr>\n",
       "  </tbody>\n",
       "</table>\n",
       "</div>"
      ],
      "text/plain": [
       "   country  2017\n",
       "0  Albania   NaN"
      ]
     },
     "execution_count": 31,
     "metadata": {},
     "output_type": "execute_result"
    }
   ],
   "source": [
    "employ_17.head(1)"
   ]
  },
  {
   "cell_type": "code",
   "execution_count": 32,
   "metadata": {},
   "outputs": [
    {
     "data": {
      "text/html": [
       "<div>\n",
       "<style scoped>\n",
       "    .dataframe tbody tr th:only-of-type {\n",
       "        vertical-align: middle;\n",
       "    }\n",
       "\n",
       "    .dataframe tbody tr th {\n",
       "        vertical-align: top;\n",
       "    }\n",
       "\n",
       "    .dataframe thead th {\n",
       "        text-align: right;\n",
       "    }\n",
       "</style>\n",
       "<table border=\"1\" class=\"dataframe\">\n",
       "  <thead>\n",
       "    <tr style=\"text-align: right;\">\n",
       "      <th></th>\n",
       "      <th>country</th>\n",
       "      <th>2015</th>\n",
       "    </tr>\n",
       "  </thead>\n",
       "  <tbody>\n",
       "    <tr>\n",
       "      <th>0</th>\n",
       "      <td>Afghanistan</td>\n",
       "      <td>39.2</td>\n",
       "    </tr>\n",
       "  </tbody>\n",
       "</table>\n",
       "</div>"
      ],
      "text/plain": [
       "       country  2015\n",
       "0  Afghanistan  39.2"
      ]
     },
     "execution_count": 32,
     "metadata": {},
     "output_type": "execute_result"
    }
   ],
   "source": [
    "sanitation_15.head(1)"
   ]
  },
  {
   "cell_type": "code",
   "execution_count": 33,
   "metadata": {},
   "outputs": [
    {
     "data": {
      "text/html": [
       "<div>\n",
       "<style scoped>\n",
       "    .dataframe tbody tr th:only-of-type {\n",
       "        vertical-align: middle;\n",
       "    }\n",
       "\n",
       "    .dataframe tbody tr th {\n",
       "        vertical-align: top;\n",
       "    }\n",
       "\n",
       "    .dataframe thead th {\n",
       "        text-align: right;\n",
       "    }\n",
       "</style>\n",
       "<table border=\"1\" class=\"dataframe\">\n",
       "  <thead>\n",
       "    <tr style=\"text-align: right;\">\n",
       "      <th></th>\n",
       "      <th>country</th>\n",
       "      <th>2018</th>\n",
       "    </tr>\n",
       "  </thead>\n",
       "  <tbody>\n",
       "    <tr>\n",
       "      <th>0</th>\n",
       "      <td>Afghanistan</td>\n",
       "      <td>55.7</td>\n",
       "    </tr>\n",
       "  </tbody>\n",
       "</table>\n",
       "</div>"
      ],
      "text/plain": [
       "       country  2018\n",
       "0  Afghanistan  55.7"
      ]
     },
     "execution_count": 33,
     "metadata": {},
     "output_type": "execute_result"
    }
   ],
   "source": [
    "population_18.head(1)"
   ]
  },
  {
   "cell_type": "markdown",
   "metadata": {},
   "source": [
    "The data selections for different variables are successful."
   ]
  },
  {
   "cell_type": "code",
   "execution_count": 34,
   "metadata": {},
   "outputs": [],
   "source": [
    "# rename the columns for each selected data so that they can be seperated after merging\n",
    "life_08_18.rename(index = str, columns = {\"2008\": \"life_08\", \"2018\": \"life_18\"}, inplace = True)\n",
    "income_18.rename(index = str, columns = {\"2018\": \"income_18\"}, inplace = True)\n",
    "school_15.rename(index = str, columns = {\"2015\": \"school_15\"}, inplace = True)\n",
    "employ_17.rename(index = str, columns = {\"2017\": \"employ_17\"}, inplace = True)\n",
    "sanitation_15.rename(index = str, columns = {\"2015\": \"sanitation_15\"}, inplace = True)\n",
    "population_18.rename(index = str, columns = {\"2018\": \"population_18\"}, inplace = True)"
   ]
  },
  {
   "cell_type": "code",
   "execution_count": 35,
   "metadata": {},
   "outputs": [
    {
     "data": {
      "text/html": [
       "<div>\n",
       "<style scoped>\n",
       "    .dataframe tbody tr th:only-of-type {\n",
       "        vertical-align: middle;\n",
       "    }\n",
       "\n",
       "    .dataframe tbody tr th {\n",
       "        vertical-align: top;\n",
       "    }\n",
       "\n",
       "    .dataframe thead th {\n",
       "        text-align: right;\n",
       "    }\n",
       "</style>\n",
       "<table border=\"1\" class=\"dataframe\">\n",
       "  <thead>\n",
       "    <tr style=\"text-align: right;\">\n",
       "      <th></th>\n",
       "      <th>country</th>\n",
       "      <th>life_08</th>\n",
       "      <th>life_18</th>\n",
       "    </tr>\n",
       "  </thead>\n",
       "  <tbody>\n",
       "    <tr>\n",
       "      <th>0</th>\n",
       "      <td>Afghanistan</td>\n",
       "      <td>55.2</td>\n",
       "      <td>58.7</td>\n",
       "    </tr>\n",
       "  </tbody>\n",
       "</table>\n",
       "</div>"
      ],
      "text/plain": [
       "       country  life_08  life_18\n",
       "0  Afghanistan     55.2     58.7"
      ]
     },
     "execution_count": 35,
     "metadata": {},
     "output_type": "execute_result"
    }
   ],
   "source": [
    "# check if the renameing for different columns are successful\n",
    "life_08_18.head(1)"
   ]
  },
  {
   "cell_type": "code",
   "execution_count": 36,
   "metadata": {},
   "outputs": [
    {
     "data": {
      "text/html": [
       "<div>\n",
       "<style scoped>\n",
       "    .dataframe tbody tr th:only-of-type {\n",
       "        vertical-align: middle;\n",
       "    }\n",
       "\n",
       "    .dataframe tbody tr th {\n",
       "        vertical-align: top;\n",
       "    }\n",
       "\n",
       "    .dataframe thead th {\n",
       "        text-align: right;\n",
       "    }\n",
       "</style>\n",
       "<table border=\"1\" class=\"dataframe\">\n",
       "  <thead>\n",
       "    <tr style=\"text-align: right;\">\n",
       "      <th></th>\n",
       "      <th>country</th>\n",
       "      <th>income_18</th>\n",
       "    </tr>\n",
       "  </thead>\n",
       "  <tbody>\n",
       "    <tr>\n",
       "      <th>0</th>\n",
       "      <td>Afghanistan</td>\n",
       "      <td>1870</td>\n",
       "    </tr>\n",
       "  </tbody>\n",
       "</table>\n",
       "</div>"
      ],
      "text/plain": [
       "       country  income_18\n",
       "0  Afghanistan       1870"
      ]
     },
     "execution_count": 36,
     "metadata": {},
     "output_type": "execute_result"
    }
   ],
   "source": [
    "income_18.head(1)"
   ]
  },
  {
   "cell_type": "code",
   "execution_count": 37,
   "metadata": {},
   "outputs": [
    {
     "data": {
      "text/html": [
       "<div>\n",
       "<style scoped>\n",
       "    .dataframe tbody tr th:only-of-type {\n",
       "        vertical-align: middle;\n",
       "    }\n",
       "\n",
       "    .dataframe tbody tr th {\n",
       "        vertical-align: top;\n",
       "    }\n",
       "\n",
       "    .dataframe thead th {\n",
       "        text-align: right;\n",
       "    }\n",
       "</style>\n",
       "<table border=\"1\" class=\"dataframe\">\n",
       "  <thead>\n",
       "    <tr style=\"text-align: right;\">\n",
       "      <th></th>\n",
       "      <th>country</th>\n",
       "      <th>school_15</th>\n",
       "    </tr>\n",
       "  </thead>\n",
       "  <tbody>\n",
       "    <tr>\n",
       "      <th>0</th>\n",
       "      <td>Afghanistan</td>\n",
       "      <td>NaN</td>\n",
       "    </tr>\n",
       "  </tbody>\n",
       "</table>\n",
       "</div>"
      ],
      "text/plain": [
       "       country  school_15\n",
       "0  Afghanistan        NaN"
      ]
     },
     "execution_count": 37,
     "metadata": {},
     "output_type": "execute_result"
    }
   ],
   "source": [
    "school_15.head(1)"
   ]
  },
  {
   "cell_type": "code",
   "execution_count": 38,
   "metadata": {},
   "outputs": [
    {
     "data": {
      "text/html": [
       "<div>\n",
       "<style scoped>\n",
       "    .dataframe tbody tr th:only-of-type {\n",
       "        vertical-align: middle;\n",
       "    }\n",
       "\n",
       "    .dataframe tbody tr th {\n",
       "        vertical-align: top;\n",
       "    }\n",
       "\n",
       "    .dataframe thead th {\n",
       "        text-align: right;\n",
       "    }\n",
       "</style>\n",
       "<table border=\"1\" class=\"dataframe\">\n",
       "  <thead>\n",
       "    <tr style=\"text-align: right;\">\n",
       "      <th></th>\n",
       "      <th>country</th>\n",
       "      <th>employ_17</th>\n",
       "    </tr>\n",
       "  </thead>\n",
       "  <tbody>\n",
       "    <tr>\n",
       "      <th>0</th>\n",
       "      <td>Albania</td>\n",
       "      <td>NaN</td>\n",
       "    </tr>\n",
       "  </tbody>\n",
       "</table>\n",
       "</div>"
      ],
      "text/plain": [
       "   country  employ_17\n",
       "0  Albania        NaN"
      ]
     },
     "execution_count": 38,
     "metadata": {},
     "output_type": "execute_result"
    }
   ],
   "source": [
    "employ_17.head(1)"
   ]
  },
  {
   "cell_type": "code",
   "execution_count": 39,
   "metadata": {},
   "outputs": [
    {
     "data": {
      "text/html": [
       "<div>\n",
       "<style scoped>\n",
       "    .dataframe tbody tr th:only-of-type {\n",
       "        vertical-align: middle;\n",
       "    }\n",
       "\n",
       "    .dataframe tbody tr th {\n",
       "        vertical-align: top;\n",
       "    }\n",
       "\n",
       "    .dataframe thead th {\n",
       "        text-align: right;\n",
       "    }\n",
       "</style>\n",
       "<table border=\"1\" class=\"dataframe\">\n",
       "  <thead>\n",
       "    <tr style=\"text-align: right;\">\n",
       "      <th></th>\n",
       "      <th>country</th>\n",
       "      <th>sanitation_15</th>\n",
       "    </tr>\n",
       "  </thead>\n",
       "  <tbody>\n",
       "    <tr>\n",
       "      <th>0</th>\n",
       "      <td>Afghanistan</td>\n",
       "      <td>39.2</td>\n",
       "    </tr>\n",
       "  </tbody>\n",
       "</table>\n",
       "</div>"
      ],
      "text/plain": [
       "       country  sanitation_15\n",
       "0  Afghanistan           39.2"
      ]
     },
     "execution_count": 39,
     "metadata": {},
     "output_type": "execute_result"
    }
   ],
   "source": [
    "sanitation_15.head(1)"
   ]
  },
  {
   "cell_type": "code",
   "execution_count": 40,
   "metadata": {
    "scrolled": true
   },
   "outputs": [
    {
     "data": {
      "text/html": [
       "<div>\n",
       "<style scoped>\n",
       "    .dataframe tbody tr th:only-of-type {\n",
       "        vertical-align: middle;\n",
       "    }\n",
       "\n",
       "    .dataframe tbody tr th {\n",
       "        vertical-align: top;\n",
       "    }\n",
       "\n",
       "    .dataframe thead th {\n",
       "        text-align: right;\n",
       "    }\n",
       "</style>\n",
       "<table border=\"1\" class=\"dataframe\">\n",
       "  <thead>\n",
       "    <tr style=\"text-align: right;\">\n",
       "      <th></th>\n",
       "      <th>country</th>\n",
       "      <th>population_18</th>\n",
       "    </tr>\n",
       "  </thead>\n",
       "  <tbody>\n",
       "    <tr>\n",
       "      <th>0</th>\n",
       "      <td>Afghanistan</td>\n",
       "      <td>55.7</td>\n",
       "    </tr>\n",
       "  </tbody>\n",
       "</table>\n",
       "</div>"
      ],
      "text/plain": [
       "       country  population_18\n",
       "0  Afghanistan           55.7"
      ]
     },
     "execution_count": 40,
     "metadata": {},
     "output_type": "execute_result"
    }
   ],
   "source": [
    "population_18.head(1)"
   ]
  },
  {
   "cell_type": "markdown",
   "metadata": {},
   "source": [
    "Renaming for different columns are successful."
   ]
  },
  {
   "cell_type": "code",
   "execution_count": 41,
   "metadata": {},
   "outputs": [],
   "source": [
    "# merge life expectance data and income data\n",
    "life_inc = pd.merge(life_08_18,income_18, how='inner', left_on = 'country', right_on = 'country')"
   ]
  },
  {
   "cell_type": "code",
   "execution_count": 42,
   "metadata": {},
   "outputs": [
    {
     "data": {
      "text/html": [
       "<div>\n",
       "<style scoped>\n",
       "    .dataframe tbody tr th:only-of-type {\n",
       "        vertical-align: middle;\n",
       "    }\n",
       "\n",
       "    .dataframe tbody tr th {\n",
       "        vertical-align: top;\n",
       "    }\n",
       "\n",
       "    .dataframe thead th {\n",
       "        text-align: right;\n",
       "    }\n",
       "</style>\n",
       "<table border=\"1\" class=\"dataframe\">\n",
       "  <thead>\n",
       "    <tr style=\"text-align: right;\">\n",
       "      <th></th>\n",
       "      <th>country</th>\n",
       "      <th>life_08</th>\n",
       "      <th>life_18</th>\n",
       "      <th>income_18</th>\n",
       "    </tr>\n",
       "  </thead>\n",
       "  <tbody>\n",
       "    <tr>\n",
       "      <th>0</th>\n",
       "      <td>Afghanistan</td>\n",
       "      <td>55.2</td>\n",
       "      <td>58.7</td>\n",
       "      <td>1870</td>\n",
       "    </tr>\n",
       "  </tbody>\n",
       "</table>\n",
       "</div>"
      ],
      "text/plain": [
       "       country  life_08  life_18  income_18\n",
       "0  Afghanistan     55.2     58.7       1870"
      ]
     },
     "execution_count": 42,
     "metadata": {},
     "output_type": "execute_result"
    }
   ],
   "source": [
    "# check if the merge is successful by printing out the first line\n",
    "life_inc.head(1)"
   ]
  },
  {
   "cell_type": "code",
   "execution_count": 43,
   "metadata": {},
   "outputs": [
    {
     "data": {
      "text/plain": [
       "(187, 4)"
      ]
     },
     "execution_count": 43,
     "metadata": {},
     "output_type": "execute_result"
    }
   ],
   "source": [
    "# check if the merge is successful by getting the shape of the new dataset\n",
    "life_inc.shape"
   ]
  },
  {
   "cell_type": "code",
   "execution_count": 44,
   "metadata": {},
   "outputs": [],
   "source": [
    "# merge life expectance data, income data and school data\n",
    "life_inc_sch = pd.merge(life_inc,school_15, how='inner', left_on = 'country', right_on = 'country')"
   ]
  },
  {
   "cell_type": "code",
   "execution_count": 45,
   "metadata": {},
   "outputs": [
    {
     "data": {
      "text/html": [
       "<div>\n",
       "<style scoped>\n",
       "    .dataframe tbody tr th:only-of-type {\n",
       "        vertical-align: middle;\n",
       "    }\n",
       "\n",
       "    .dataframe tbody tr th {\n",
       "        vertical-align: top;\n",
       "    }\n",
       "\n",
       "    .dataframe thead th {\n",
       "        text-align: right;\n",
       "    }\n",
       "</style>\n",
       "<table border=\"1\" class=\"dataframe\">\n",
       "  <thead>\n",
       "    <tr style=\"text-align: right;\">\n",
       "      <th></th>\n",
       "      <th>country</th>\n",
       "      <th>life_08</th>\n",
       "      <th>life_18</th>\n",
       "      <th>income_18</th>\n",
       "      <th>school_15</th>\n",
       "    </tr>\n",
       "  </thead>\n",
       "  <tbody>\n",
       "    <tr>\n",
       "      <th>0</th>\n",
       "      <td>Afghanistan</td>\n",
       "      <td>55.2</td>\n",
       "      <td>58.7</td>\n",
       "      <td>1870</td>\n",
       "      <td>NaN</td>\n",
       "    </tr>\n",
       "  </tbody>\n",
       "</table>\n",
       "</div>"
      ],
      "text/plain": [
       "       country  life_08  life_18  income_18  school_15\n",
       "0  Afghanistan     55.2     58.7       1870        NaN"
      ]
     },
     "execution_count": 45,
     "metadata": {},
     "output_type": "execute_result"
    }
   ],
   "source": [
    "# check if the merge is successful by printing out the first line\n",
    "life_inc_sch.head(1)"
   ]
  },
  {
   "cell_type": "code",
   "execution_count": 46,
   "metadata": {},
   "outputs": [
    {
     "data": {
      "text/plain": [
       "(180, 5)"
      ]
     },
     "execution_count": 46,
     "metadata": {},
     "output_type": "execute_result"
    }
   ],
   "source": [
    "# check if the merge is successful by getting the shape of the new dataset\n",
    "life_inc_sch.shape"
   ]
  },
  {
   "cell_type": "code",
   "execution_count": 47,
   "metadata": {},
   "outputs": [],
   "source": [
    "# merge employment data and sanitation data, since employment data only \n",
    "# has 122 entries, right merge was used to avoid losing too much sanitation data\n",
    "employ_san = pd.merge(employ_17,sanitation_15, how='right', left_on = 'country', right_on = 'country')"
   ]
  },
  {
   "cell_type": "code",
   "execution_count": 48,
   "metadata": {},
   "outputs": [
    {
     "data": {
      "text/html": [
       "<div>\n",
       "<style scoped>\n",
       "    .dataframe tbody tr th:only-of-type {\n",
       "        vertical-align: middle;\n",
       "    }\n",
       "\n",
       "    .dataframe tbody tr th {\n",
       "        vertical-align: top;\n",
       "    }\n",
       "\n",
       "    .dataframe thead th {\n",
       "        text-align: right;\n",
       "    }\n",
       "</style>\n",
       "<table border=\"1\" class=\"dataframe\">\n",
       "  <thead>\n",
       "    <tr style=\"text-align: right;\">\n",
       "      <th></th>\n",
       "      <th>country</th>\n",
       "      <th>employ_17</th>\n",
       "      <th>sanitation_15</th>\n",
       "    </tr>\n",
       "  </thead>\n",
       "  <tbody>\n",
       "    <tr>\n",
       "      <th>0</th>\n",
       "      <td>Albania</td>\n",
       "      <td>NaN</td>\n",
       "      <td>97.7</td>\n",
       "    </tr>\n",
       "  </tbody>\n",
       "</table>\n",
       "</div>"
      ],
      "text/plain": [
       "   country  employ_17  sanitation_15\n",
       "0  Albania        NaN           97.7"
      ]
     },
     "execution_count": 48,
     "metadata": {},
     "output_type": "execute_result"
    }
   ],
   "source": [
    "# check if the merge is successful by printing out the first line\n",
    "employ_san.head(1)"
   ]
  },
  {
   "cell_type": "code",
   "execution_count": 49,
   "metadata": {},
   "outputs": [
    {
     "data": {
      "text/plain": [
       "(194, 3)"
      ]
     },
     "execution_count": 49,
     "metadata": {},
     "output_type": "execute_result"
    }
   ],
   "source": [
    "# check if the merge is successful by getting the shape of the new dataset\n",
    "employ_san.shape"
   ]
  },
  {
   "cell_type": "code",
   "execution_count": 50,
   "metadata": {
    "scrolled": false
   },
   "outputs": [],
   "source": [
    "# merge employment data, sanitation data and population data\n",
    "employ_san_pop = pd.merge(employ_san, population_18, how='inner', left_on = 'country', right_on = 'country')"
   ]
  },
  {
   "cell_type": "code",
   "execution_count": 51,
   "metadata": {},
   "outputs": [
    {
     "data": {
      "text/html": [
       "<div>\n",
       "<style scoped>\n",
       "    .dataframe tbody tr th:only-of-type {\n",
       "        vertical-align: middle;\n",
       "    }\n",
       "\n",
       "    .dataframe tbody tr th {\n",
       "        vertical-align: top;\n",
       "    }\n",
       "\n",
       "    .dataframe thead th {\n",
       "        text-align: right;\n",
       "    }\n",
       "</style>\n",
       "<table border=\"1\" class=\"dataframe\">\n",
       "  <thead>\n",
       "    <tr style=\"text-align: right;\">\n",
       "      <th></th>\n",
       "      <th>country</th>\n",
       "      <th>employ_17</th>\n",
       "      <th>sanitation_15</th>\n",
       "      <th>population_18</th>\n",
       "    </tr>\n",
       "  </thead>\n",
       "  <tbody>\n",
       "    <tr>\n",
       "      <th>0</th>\n",
       "      <td>Albania</td>\n",
       "      <td>NaN</td>\n",
       "      <td>97.7</td>\n",
       "      <td>107.0</td>\n",
       "    </tr>\n",
       "  </tbody>\n",
       "</table>\n",
       "</div>"
      ],
      "text/plain": [
       "   country  employ_17  sanitation_15  population_18\n",
       "0  Albania        NaN           97.7          107.0"
      ]
     },
     "execution_count": 51,
     "metadata": {},
     "output_type": "execute_result"
    }
   ],
   "source": [
    "# check if the merge is successful by printing out the first line\n",
    "employ_san_pop.head(1)"
   ]
  },
  {
   "cell_type": "code",
   "execution_count": 52,
   "metadata": {},
   "outputs": [
    {
     "data": {
      "text/plain": [
       "(194, 4)"
      ]
     },
     "execution_count": 52,
     "metadata": {},
     "output_type": "execute_result"
    }
   ],
   "source": [
    "# check if the merge is successful by getting the shape of the new dataset\n",
    "employ_san_pop.shape"
   ]
  },
  {
   "cell_type": "code",
   "execution_count": 53,
   "metadata": {},
   "outputs": [],
   "source": [
    "# merge all the data togehter including life expectancy, income, school, \n",
    "# employ, sanitation, and population\n",
    "life_combined = pd.merge(life_inc_sch, employ_san_pop, how='inner', left_on = 'country', right_on = 'country')"
   ]
  },
  {
   "cell_type": "code",
   "execution_count": 54,
   "metadata": {},
   "outputs": [
    {
     "data": {
      "text/html": [
       "<div>\n",
       "<style scoped>\n",
       "    .dataframe tbody tr th:only-of-type {\n",
       "        vertical-align: middle;\n",
       "    }\n",
       "\n",
       "    .dataframe tbody tr th {\n",
       "        vertical-align: top;\n",
       "    }\n",
       "\n",
       "    .dataframe thead th {\n",
       "        text-align: right;\n",
       "    }\n",
       "</style>\n",
       "<table border=\"1\" class=\"dataframe\">\n",
       "  <thead>\n",
       "    <tr style=\"text-align: right;\">\n",
       "      <th></th>\n",
       "      <th>country</th>\n",
       "      <th>life_08</th>\n",
       "      <th>life_18</th>\n",
       "      <th>income_18</th>\n",
       "      <th>school_15</th>\n",
       "      <th>employ_17</th>\n",
       "      <th>sanitation_15</th>\n",
       "      <th>population_18</th>\n",
       "    </tr>\n",
       "  </thead>\n",
       "  <tbody>\n",
       "    <tr>\n",
       "      <th>0</th>\n",
       "      <td>Afghanistan</td>\n",
       "      <td>55.2</td>\n",
       "      <td>58.7</td>\n",
       "      <td>1870</td>\n",
       "      <td>NaN</td>\n",
       "      <td>NaN</td>\n",
       "      <td>39.2</td>\n",
       "      <td>55.7</td>\n",
       "    </tr>\n",
       "  </tbody>\n",
       "</table>\n",
       "</div>"
      ],
      "text/plain": [
       "       country  life_08  life_18  income_18  school_15  employ_17  \\\n",
       "0  Afghanistan     55.2     58.7       1870        NaN        NaN   \n",
       "\n",
       "   sanitation_15  population_18  \n",
       "0           39.2           55.7  "
      ]
     },
     "execution_count": 54,
     "metadata": {},
     "output_type": "execute_result"
    }
   ],
   "source": [
    "# check if the merge is successful by printing out the first line\n",
    "life_combined.head(1)"
   ]
  },
  {
   "cell_type": "code",
   "execution_count": 55,
   "metadata": {},
   "outputs": [
    {
     "data": {
      "text/plain": [
       "(180, 8)"
      ]
     },
     "execution_count": 55,
     "metadata": {},
     "output_type": "execute_result"
    }
   ],
   "source": [
    "# check if the merge is successful by getting the shape of the new dataset\n",
    "life_combined.shape"
   ]
  },
  {
   "cell_type": "markdown",
   "metadata": {},
   "source": [
    "All the variables are successfullly merged into **life_combined** dataset."
   ]
  },
  {
   "cell_type": "markdown",
   "metadata": {},
   "source": [
    "#### Check duplicated data"
   ]
  },
  {
   "cell_type": "code",
   "execution_count": 56,
   "metadata": {},
   "outputs": [
    {
     "data": {
      "text/plain": [
       "0"
      ]
     },
     "execution_count": 56,
     "metadata": {},
     "output_type": "execute_result"
    }
   ],
   "source": [
    "sum(life_combined.duplicated())"
   ]
  },
  {
   "cell_type": "markdown",
   "metadata": {},
   "source": [
    "There is no duplicated data in the combined dataset."
   ]
  },
  {
   "cell_type": "markdown",
   "metadata": {},
   "source": [
    "#### Deal with missing data"
   ]
  },
  {
   "cell_type": "code",
   "execution_count": 57,
   "metadata": {},
   "outputs": [
    {
     "name": "stdout",
     "output_type": "stream",
     "text": [
      "<class 'pandas.core.frame.DataFrame'>\n",
      "Int64Index: 180 entries, 0 to 179\n",
      "Data columns (total 8 columns):\n",
      "country          180 non-null object\n",
      "life_08          180 non-null float64\n",
      "life_18          178 non-null float64\n",
      "income_18        180 non-null int64\n",
      "school_15        119 non-null float64\n",
      "employ_17        73 non-null float64\n",
      "sanitation_15    180 non-null float64\n",
      "population_18    180 non-null float64\n",
      "dtypes: float64(6), int64(1), object(1)\n",
      "memory usage: 12.7+ KB\n"
     ]
    }
   ],
   "source": [
    "life_combined.info()"
   ]
  },
  {
   "cell_type": "markdown",
   "metadata": {},
   "source": [
    "There are two missing values for life expectancy in 2018, 61 missing values for school, and 107 missing values for employment."
   ]
  },
  {
   "cell_type": "code",
   "execution_count": 58,
   "metadata": {},
   "outputs": [],
   "source": [
    "# find the index of the missing value for life expectancy in 2018\n",
    "idx = np.where(life_combined['life_18'].isna())[0]"
   ]
  },
  {
   "cell_type": "code",
   "execution_count": 59,
   "metadata": {},
   "outputs": [
    {
     "name": "stderr",
     "output_type": "stream",
     "text": [
      "/Users/gongmengyan/anaconda3/lib/python3.6/site-packages/ipykernel_launcher.py:3: SettingWithCopyWarning: \n",
      "A value is trying to be set on a copy of a slice from a DataFrame\n",
      "\n",
      "See the caveats in the documentation: http://pandas.pydata.org/pandas-docs/stable/indexing.html#indexing-view-versus-copy\n",
      "  This is separate from the ipykernel package so we can avoid doing imports until\n"
     ]
    },
    {
     "data": {
      "text/plain": [
       "45     79.2\n",
       "102    79.8\n",
       "Name: life_18, dtype: float64"
      ]
     },
     "execution_count": 59,
     "metadata": {},
     "output_type": "execute_result"
    }
   ],
   "source": [
    "# fill the missing value for life expectancy in 2018 with life expectancy in 2017\n",
    "life_17  = life.loc[:,['country', '2017']]\n",
    "life_combined['life_18'][idx]=life_17['2017'][idx]\n",
    "life_combined['life_18'][idx]"
   ]
  },
  {
   "cell_type": "code",
   "execution_count": 60,
   "metadata": {
    "scrolled": true
   },
   "outputs": [
    {
     "name": "stdout",
     "output_type": "stream",
     "text": [
      "<class 'pandas.core.frame.DataFrame'>\n",
      "Int64Index: 180 entries, 0 to 179\n",
      "Data columns (total 8 columns):\n",
      "country          180 non-null object\n",
      "life_08          180 non-null float64\n",
      "life_18          180 non-null float64\n",
      "income_18        180 non-null int64\n",
      "school_15        119 non-null float64\n",
      "employ_17        73 non-null float64\n",
      "sanitation_15    180 non-null float64\n",
      "population_18    180 non-null float64\n",
      "dtypes: float64(6), int64(1), object(1)\n",
      "memory usage: 17.7+ KB\n"
     ]
    }
   ],
   "source": [
    "# check if the filling is successful\n",
    "life_combined.info()"
   ]
  },
  {
   "cell_type": "markdown",
   "metadata": {},
   "source": [
    "Since 61 values for school_15, 107 values for employ_17 are missing because they are not collected and there is no good way to fill the missing values, I will drop the rows with missing values and save three different combined datasets for analysis below."
   ]
  },
  {
   "cell_type": "code",
   "execution_count": 61,
   "metadata": {},
   "outputs": [],
   "source": [
    "# save the combined dataset to a csv file for analysis which don't use school_15 and employ_17.\n",
    "life_combined.to_csv('combined_life_dataset.csv')"
   ]
  },
  {
   "cell_type": "code",
   "execution_count": 62,
   "metadata": {
    "scrolled": true
   },
   "outputs": [
    {
     "name": "stdout",
     "output_type": "stream",
     "text": [
      "<class 'pandas.core.frame.DataFrame'>\n",
      "Int64Index: 119 entries, 1 to 176\n",
      "Data columns (total 8 columns):\n",
      "country          119 non-null object\n",
      "life_08          119 non-null float64\n",
      "life_18          119 non-null float64\n",
      "income_18        119 non-null int64\n",
      "school_15        119 non-null float64\n",
      "employ_17        59 non-null float64\n",
      "sanitation_15    119 non-null float64\n",
      "population_18    119 non-null float64\n",
      "dtypes: float64(6), int64(1), object(1)\n",
      "memory usage: 8.4+ KB\n"
     ]
    }
   ],
   "source": [
    "# drop the rows with null values in school_15\n",
    "life_combined_2 = life_combined.dropna(subset = ['school_15'])\n",
    "life_combined_2.info()"
   ]
  },
  {
   "cell_type": "code",
   "execution_count": 63,
   "metadata": {},
   "outputs": [],
   "source": [
    "# save the combined dataset to a csv file for analysis which use school_15.\n",
    "life_combined_2.to_csv('combined_2_life_dataset.csv')"
   ]
  },
  {
   "cell_type": "code",
   "execution_count": 64,
   "metadata": {},
   "outputs": [
    {
     "name": "stdout",
     "output_type": "stream",
     "text": [
      "<class 'pandas.core.frame.DataFrame'>\n",
      "Int64Index: 73 entries, 5 to 172\n",
      "Data columns (total 8 columns):\n",
      "country          73 non-null object\n",
      "life_08          73 non-null float64\n",
      "life_18          73 non-null float64\n",
      "income_18        73 non-null int64\n",
      "school_15        59 non-null float64\n",
      "employ_17        73 non-null float64\n",
      "sanitation_15    73 non-null float64\n",
      "population_18    73 non-null float64\n",
      "dtypes: float64(6), int64(1), object(1)\n",
      "memory usage: 5.1+ KB\n"
     ]
    }
   ],
   "source": [
    "# drop the rows with null values in employ_17\n",
    "life_combined_3 = life_combined.dropna(subset = ['employ_17'])\n",
    "life_combined_3.info()"
   ]
  },
  {
   "cell_type": "code",
   "execution_count": 65,
   "metadata": {},
   "outputs": [],
   "source": [
    "# save the combined dataset to a csv file for analysis which use employ_17.\n",
    "life_combined_3.to_csv('combined_3_life_dataset.csv')"
   ]
  },
  {
   "cell_type": "markdown",
   "metadata": {},
   "source": [
    "<a id='eda'></a>\n",
    "## Exploratory Data Analysis"
   ]
  },
  {
   "cell_type": "markdown",
   "metadata": {},
   "source": [
    "The statisical significance level for the analysis in this section was set at p-value = 0.05."
   ]
  },
  {
   "cell_type": "code",
   "execution_count": 66,
   "metadata": {},
   "outputs": [
    {
     "data": {
      "image/png": "[encoded data removed]",
      "text/plain": [
       "<Figure size 1080x1080 with 9 Axes>"
      ]
     },
     "metadata": {
      "needs_background": "light"
     },
     "output_type": "display_data"
    }
   ],
   "source": [
    "# plot histgram to have an intuitive idea about the distribution \n",
    "# of each variable\n",
    "life_combined.hist(figsize = (15,15));"
   ]
  },
  {
   "cell_type": "markdown",
   "metadata": {},
   "source": [
    "### How much has the life expectancy changed from 2008 to 2018?"
   ]
  },
  {
   "cell_type": "code",
   "execution_count": 67,
   "metadata": {},
   "outputs": [
    {
     "data": {
      "text/html": [
       "<div>\n",
       "<style scoped>\n",
       "    .dataframe tbody tr th:only-of-type {\n",
       "        vertical-align: middle;\n",
       "    }\n",
       "\n",
       "    .dataframe tbody tr th {\n",
       "        vertical-align: top;\n",
       "    }\n",
       "\n",
       "    .dataframe thead th {\n",
       "        text-align: right;\n",
       "    }\n",
       "</style>\n",
       "<table border=\"1\" class=\"dataframe\">\n",
       "  <thead>\n",
       "    <tr style=\"text-align: right;\">\n",
       "      <th></th>\n",
       "      <th>country</th>\n",
       "      <th>life_08</th>\n",
       "      <th>life_18</th>\n",
       "      <th>income_18</th>\n",
       "      <th>school_15</th>\n",
       "      <th>employ_17</th>\n",
       "      <th>sanitation_15</th>\n",
       "      <th>population_18</th>\n",
       "      <th>life_change</th>\n",
       "    </tr>\n",
       "  </thead>\n",
       "  <tbody>\n",
       "    <tr>\n",
       "      <th>0</th>\n",
       "      <td>Afghanistan</td>\n",
       "      <td>55.2</td>\n",
       "      <td>58.7</td>\n",
       "      <td>1870</td>\n",
       "      <td>NaN</td>\n",
       "      <td>NaN</td>\n",
       "      <td>39.2</td>\n",
       "      <td>55.7</td>\n",
       "      <td>3.5</td>\n",
       "    </tr>\n",
       "    <tr>\n",
       "      <th>1</th>\n",
       "      <td>Albania</td>\n",
       "      <td>75.6</td>\n",
       "      <td>78.0</td>\n",
       "      <td>12400</td>\n",
       "      <td>104.0</td>\n",
       "      <td>NaN</td>\n",
       "      <td>97.7</td>\n",
       "      <td>107.0</td>\n",
       "      <td>2.4</td>\n",
       "    </tr>\n",
       "    <tr>\n",
       "      <th>2</th>\n",
       "      <td>Algeria</td>\n",
       "      <td>76.1</td>\n",
       "      <td>77.9</td>\n",
       "      <td>13700</td>\n",
       "      <td>105.0</td>\n",
       "      <td>NaN</td>\n",
       "      <td>87.5</td>\n",
       "      <td>17.6</td>\n",
       "      <td>1.8</td>\n",
       "    </tr>\n",
       "    <tr>\n",
       "      <th>3</th>\n",
       "      <td>Angola</td>\n",
       "      <td>58.6</td>\n",
       "      <td>65.2</td>\n",
       "      <td>5850</td>\n",
       "      <td>NaN</td>\n",
       "      <td>NaN</td>\n",
       "      <td>39.4</td>\n",
       "      <td>24.7</td>\n",
       "      <td>6.6</td>\n",
       "    </tr>\n",
       "    <tr>\n",
       "      <th>4</th>\n",
       "      <td>Antigua and Barbuda</td>\n",
       "      <td>76.6</td>\n",
       "      <td>77.6</td>\n",
       "      <td>21000</td>\n",
       "      <td>76.9</td>\n",
       "      <td>NaN</td>\n",
       "      <td>87.5</td>\n",
       "      <td>234.0</td>\n",
       "      <td>1.0</td>\n",
       "    </tr>\n",
       "  </tbody>\n",
       "</table>\n",
       "</div>"
      ],
      "text/plain": [
       "               country  life_08  life_18  income_18  school_15  employ_17  \\\n",
       "0          Afghanistan     55.2     58.7       1870        NaN        NaN   \n",
       "1              Albania     75.6     78.0      12400      104.0        NaN   \n",
       "2              Algeria     76.1     77.9      13700      105.0        NaN   \n",
       "3               Angola     58.6     65.2       5850        NaN        NaN   \n",
       "4  Antigua and Barbuda     76.6     77.6      21000       76.9        NaN   \n",
       "\n",
       "   sanitation_15  population_18  life_change  \n",
       "0           39.2           55.7          3.5  \n",
       "1           97.7          107.0          2.4  \n",
       "2           87.5           17.6          1.8  \n",
       "3           39.4           24.7          6.6  \n",
       "4           87.5          234.0          1.0  "
      ]
     },
     "execution_count": 67,
     "metadata": {},
     "output_type": "execute_result"
    }
   ],
   "source": [
    "# calculate the life expectancy change from 2008 to 2018\n",
    "life_combined['life_change']= life_combined['life_18'] - life_combined['life_08']\n",
    "life_combined.head()"
   ]
  },
  {
   "cell_type": "code",
   "execution_count": 68,
   "metadata": {
    "scrolled": false
   },
   "outputs": [
    {
     "data": {
      "image/png": "[encoded data removed]",
      "text/plain": [
       "<Figure size 432x288 with 1 Axes>"
      ]
     },
     "metadata": {
      "needs_background": "light"
     },
     "output_type": "display_data"
    }
   ],
   "source": [
    "# plot histgram to have an intuitive idea about how much the life expectancy has changed\n",
    "life_combined['life_change'].plot.hist()\n",
    "plt.title('life expectancy change from 2008 to 2018')\n",
    "plt.xlabel('years');"
   ]
  },
  {
   "cell_type": "markdown",
   "metadata": {},
   "source": [
    "Life expectancies in most countries increased about zero to five years from 2008 to 2018. Surprisingly, life expectancies in some countries decreased."
   ]
  },
  {
   "cell_type": "code",
   "execution_count": 69,
   "metadata": {},
   "outputs": [
    {
     "data": {
      "text/plain": [
       "count    180.000000\n",
       "mean       3.210556\n",
       "std        2.805173\n",
       "min       -5.700000\n",
       "25%        1.600000\n",
       "50%        2.400000\n",
       "75%        4.100000\n",
       "max       16.400000\n",
       "Name: life_change, dtype: float64"
      ]
     },
     "execution_count": 69,
     "metadata": {},
     "output_type": "execute_result"
    }
   ],
   "source": [
    "# Get the descriptive statistics values for life expectancy change\n",
    "life_combined['life_change'].describe()"
   ]
  },
  {
   "cell_type": "code",
   "execution_count": 70,
   "metadata": {},
   "outputs": [
    {
     "data": {
      "text/plain": [
       "'Marshall Islands'"
      ]
     },
     "execution_count": 70,
     "metadata": {},
     "output_type": "execute_result"
    }
   ],
   "source": [
    "# get in which country life expectancy increase the most\n",
    "life_combined['country'].loc[life_combined['life_change'].idxmax()]"
   ]
  },
  {
   "cell_type": "code",
   "execution_count": 71,
   "metadata": {},
   "outputs": [
    {
     "data": {
      "text/plain": [
       "'Syria'"
      ]
     },
     "execution_count": 71,
     "metadata": {},
     "output_type": "execute_result"
    }
   ],
   "source": [
    "# get in which country life expectancy decrease the most\n",
    "life_combined['country'].loc[life_combined['life_change'].idxmin()]"
   ]
  },
  {
   "cell_type": "code",
   "execution_count": 72,
   "metadata": {},
   "outputs": [],
   "source": [
    "# calculate the porportion of life expectancy change in three different groups\n",
    "level_1 = sum(life_combined['life_change'] < 0)/life_combined.shape[0]\n",
    "level_2 = sum(life_combined['life_change'].between(0, 5, inclusive = True))/life_combined.shape[0]\n",
    "level_3 = sum(life_combined['life_change'] > 5)/life_combined.shape[0]"
   ]
  },
  {
   "cell_type": "code",
   "execution_count": 73,
   "metadata": {},
   "outputs": [
    {
     "data": {
      "text/plain": [
       "(0.011111111111111112, 0.8, 0.18888888888888888)"
      ]
     },
     "execution_count": 73,
     "metadata": {},
     "output_type": "execute_result"
    }
   ],
   "source": [
    "# get the porportion value for each level\n",
    "level_1, level_2, level_3"
   ]
  },
  {
   "cell_type": "code",
   "execution_count": 74,
   "metadata": {},
   "outputs": [
    {
     "data": {
      "image/png": "[encoded data removed]",
      "text/plain": [
       "<Figure size 432x288 with 1 Axes>"
      ]
     },
     "metadata": {
      "needs_background": "light"
     },
     "output_type": "display_data"
    }
   ],
   "source": [
    "# plot barplot to show the porportion of life expectancy change in three different groups\n",
    "locations = [1, 2, 3]\n",
    "heights = [level_1, level_2, level_3]\n",
    "labels = ['< 0', '0 - 5', '> 5']\n",
    "plt.bar(locations, heights, tick_label=labels)\n",
    "plt.title('life expectancy change from 2008 to 2018')\n",
    "plt.xlabel('life expectancy change (years)')\n",
    "plt.ylabel('porportion');"
   ]
  },
  {
   "cell_type": "markdown",
   "metadata": {},
   "source": [
    "### Is life expectancy in 2018 associated with income per person?"
   ]
  },
  {
   "cell_type": "code",
   "execution_count": 75,
   "metadata": {
    "scrolled": false
   },
   "outputs": [
    {
     "data": {
      "image/png": "[encoded data removed]",
      "text/plain": [
       "<Figure size 432x288 with 1 Axes>"
      ]
     },
     "metadata": {
      "needs_background": "light"
     },
     "output_type": "display_data"
    }
   ],
   "source": [
    "# plot scatterplot to have an intuitive idea about if there is any correlation.\n",
    "plt.plot(life_combined['life_18'], life_combined['income_18'], 'bo');\n",
    "plt.title('life expectancy vs income')\n",
    "plt.xlabel('life expectancy in 2018 (years)')\n",
    "plt.ylabel('income per person in 2018 ($)');"
   ]
  },
  {
   "cell_type": "markdown",
   "metadata": {},
   "source": [
    "It seems that the life expectancy in 2018 is associated with income."
   ]
  },
  {
   "cell_type": "code",
   "execution_count": 76,
   "metadata": {},
   "outputs": [
    {
     "data": {
      "text/plain": [
       "SpearmanrResult(correlation=0.8303857408842463, pvalue=4.407619127761037e-47)"
      ]
     },
     "execution_count": 76,
     "metadata": {},
     "output_type": "execute_result"
    }
   ],
   "source": [
    "# conduct statistical analysis to see if the rank correlation is significant\n",
    "stats.spearmanr(life_combined['life_18'], life_combined['income_18'])"
   ]
  },
  {
   "cell_type": "code",
   "execution_count": 77,
   "metadata": {},
   "outputs": [
    {
     "data": {
      "text/plain": [
       "(0.6555056129895613, 1.780071660314593e-23)"
      ]
     },
     "execution_count": 77,
     "metadata": {},
     "output_type": "execute_result"
    }
   ],
   "source": [
    "# conduct statistical analysis to see if the linear correlation is significant\n",
    "stats.pearsonr(life_combined['life_18'], life_combined['income_18'])"
   ]
  },
  {
   "cell_type": "markdown",
   "metadata": {},
   "source": [
    "Life expectancy in 2018 is significantly associated with income with spearman rank correlation coefficient of 0.83 and pearson correlation coefficient of 0.66."
   ]
  },
  {
   "cell_type": "markdown",
   "metadata": {},
   "source": [
    "### Is life expectancy in 2018 associated with primary completion rate?"
   ]
  },
  {
   "cell_type": "code",
   "execution_count": 78,
   "metadata": {},
   "outputs": [
    {
     "data": {
      "image/png": "[encoded data removed]",
      "text/plain": [
       "<Figure size 432x288 with 1 Axes>"
      ]
     },
     "metadata": {
      "needs_background": "light"
     },
     "output_type": "display_data"
    }
   ],
   "source": [
    "# plot scatterplot to have an intuitive idea about if there is any correlation.\n",
    "plt.plot(life_combined['life_18'], life_combined['school_15'], 'bo');\n",
    "plt.title('life expectancy vs primary completion rate')\n",
    "plt.xlabel('life expectancy in 2018 (years)')\n",
    "plt.ylabel('primary completion rate in 2015 (%)');"
   ]
  },
  {
   "cell_type": "markdown",
   "metadata": {},
   "source": [
    "It seems that the life expectancy in 2018 is associated with education."
   ]
  },
  {
   "cell_type": "code",
   "execution_count": 79,
   "metadata": {},
   "outputs": [
    {
     "data": {
      "text/plain": [
       "SpearmanrResult(correlation=0.40838256386864813, pvalue=4.0156257499521254e-06)"
      ]
     },
     "execution_count": 79,
     "metadata": {},
     "output_type": "execute_result"
    }
   ],
   "source": [
    "# conduct statistical analysis to see if the rank correlation is significant\n",
    "stats.spearmanr(life_combined_2['life_18'], life_combined_2['school_15'])"
   ]
  },
  {
   "cell_type": "code",
   "execution_count": 80,
   "metadata": {},
   "outputs": [
    {
     "data": {
      "text/plain": [
       "(0.6060874917855326, 2.796997851004645e-13)"
      ]
     },
     "execution_count": 80,
     "metadata": {},
     "output_type": "execute_result"
    }
   ],
   "source": [
    "# conduct statistical analysis to see if the linear correlation is significant\n",
    "stats.pearsonr(life_combined_2['life_18'], life_combined_2['school_15'])"
   ]
  },
  {
   "cell_type": "markdown",
   "metadata": {},
   "source": [
    "Life expectancy in 2018 is significantly associated with school completion rate with spearman rank correlation coefficient of 0.41 and pearson correlation coefficient of 0.61."
   ]
  },
  {
   "cell_type": "markdown",
   "metadata": {},
   "source": [
    "### Is life expectancy in 2018 associated with long term unemployment rate?"
   ]
  },
  {
   "cell_type": "code",
   "execution_count": 81,
   "metadata": {
    "scrolled": true
   },
   "outputs": [
    {
     "data": {
      "image/png": "[encoded data removed]",
      "text/plain": [
       "<Figure size 432x288 with 1 Axes>"
      ]
     },
     "metadata": {
      "needs_background": "light"
     },
     "output_type": "display_data"
    }
   ],
   "source": [
    "# plot scatterplot to have an intuitive idea about if there is any correlation.\n",
    "plt.plot(life_combined['life_18'], life_combined['employ_17'], 'bo');\n",
    "plt.title('life expectancy vs long term unemployment rate')\n",
    "plt.xlabel('life expectancy in 2018 (years)')\n",
    "plt.ylabel('long term unemployment rate in 2017 (%)');"
   ]
  },
  {
   "cell_type": "markdown",
   "metadata": {},
   "source": [
    "It seems there is no correlation between life expectancy in 2018 and long term unemployment rate."
   ]
  },
  {
   "cell_type": "code",
   "execution_count": 82,
   "metadata": {},
   "outputs": [
    {
     "data": {
      "text/plain": [
       "SpearmanrResult(correlation=-0.04198879779483416, pvalue=0.7243013098124034)"
      ]
     },
     "execution_count": 82,
     "metadata": {},
     "output_type": "execute_result"
    }
   ],
   "source": [
    "# conduct statistical analysis to see if the correlation is significant\n",
    "stats.spearmanr(life_combined_3['life_18'], life_combined_3['employ_17'])"
   ]
  },
  {
   "cell_type": "code",
   "execution_count": 83,
   "metadata": {},
   "outputs": [
    {
     "data": {
      "text/plain": [
       "(-0.1630163338251213, 0.16820023502665915)"
      ]
     },
     "execution_count": 83,
     "metadata": {},
     "output_type": "execute_result"
    }
   ],
   "source": [
    "# conduct statistical analysis to see if the correlation is significant\n",
    "stats.pearsonr(life_combined_3['life_18'], life_combined_3['employ_17'])"
   ]
  },
  {
   "cell_type": "markdown",
   "metadata": {},
   "source": [
    "There is no significant association between life expectancy in 2018 and long term unemployment rate."
   ]
  },
  {
   "cell_type": "markdown",
   "metadata": {},
   "source": [
    "### Is life expectancy in 2018 associated with sanitation?"
   ]
  },
  {
   "cell_type": "code",
   "execution_count": 84,
   "metadata": {},
   "outputs": [
    {
     "data": {
      "image/png": "[encoded data removed]",
      "text/plain": [
       "<Figure size 432x288 with 1 Axes>"
      ]
     },
     "metadata": {
      "needs_background": "light"
     },
     "output_type": "display_data"
    }
   ],
   "source": [
    "# plot scatterplot to have an intuitive idea about if there is any correlation.\n",
    "plt.plot(life_combined['life_18'], life_combined['sanitation_15'], 'bo');\n",
    "plt.title('life expectancy vs sanitation')\n",
    "plt.xlabel('life expectancy in 2018 (years)')\n",
    "plt.ylabel('at least sanitation access rate in 2015 (%)');"
   ]
  },
  {
   "cell_type": "markdown",
   "metadata": {},
   "source": [
    "It seems that life expectancy in 2018 is associated with sanitation"
   ]
  },
  {
   "cell_type": "code",
   "execution_count": 85,
   "metadata": {},
   "outputs": [
    {
     "data": {
      "text/plain": [
       "SpearmanrResult(correlation=0.7864634592087404, pvalue=3.053504657997037e-26)"
      ]
     },
     "execution_count": 85,
     "metadata": {},
     "output_type": "execute_result"
    }
   ],
   "source": [
    "# conduct statistical analysis to see if the correlation is significant\n",
    "stats.spearmanr(life_combined_2['life_18'], life_combined_2['sanitation_15'])"
   ]
  },
  {
   "cell_type": "code",
   "execution_count": 86,
   "metadata": {},
   "outputs": [
    {
     "data": {
      "text/plain": [
       "(0.7976579174339845, 1.8597143639450716e-27)"
      ]
     },
     "execution_count": 86,
     "metadata": {},
     "output_type": "execute_result"
    }
   ],
   "source": [
    "stats.pearsonr(life_combined_2['life_18'], life_combined_2['sanitation_15'])"
   ]
  },
  {
   "cell_type": "markdown",
   "metadata": {},
   "source": [
    "Life expectancy in 2018 is significantly associated with sanitation with spearman rank correlation coefficient of 0.79 and pearson correlation coefficient of 0.80."
   ]
  },
  {
   "cell_type": "markdown",
   "metadata": {},
   "source": [
    "### Is life expectancy in 2018 associated with population density?"
   ]
  },
  {
   "cell_type": "code",
   "execution_count": 87,
   "metadata": {
    "scrolled": false
   },
   "outputs": [
    {
     "data": {
      "image/png": "[encoded data removed]",
      "text/plain": [
       "<Figure size 432x288 with 1 Axes>"
      ]
     },
     "metadata": {
      "needs_background": "light"
     },
     "output_type": "display_data"
    }
   ],
   "source": [
    "# plot scatterplot to have an intuitive idea about if there is any correlation.\n",
    "plt.plot(life_combined['life_18'], life_combined['population_18'], 'bo');\n",
    "plt.title('life expectancy vs population density')\n",
    "plt.xlabel('life expectancy in 2018 (years)')\n",
    "plt.ylabel('population density per square km in 2018');"
   ]
  },
  {
   "cell_type": "markdown",
   "metadata": {},
   "source": [
    "I notice that there is an obvious outlier. So, it's difficult to see if there is any correlation between life expectancy in 2018 and poplulation density. I will delete the outlier and see if the relation change."
   ]
  },
  {
   "cell_type": "code",
   "execution_count": 88,
   "metadata": {},
   "outputs": [],
   "source": [
    "# delete the row with the maximum population denstiy\n",
    "life_combined_4 = life_combined.drop(life_combined['population_18'].idxmax())"
   ]
  },
  {
   "cell_type": "code",
   "execution_count": 89,
   "metadata": {},
   "outputs": [
    {
     "data": {
      "image/png": "[encoded data removed]",
      "text/plain": [
       "<Figure size 432x288 with 1 Axes>"
      ]
     },
     "metadata": {
      "needs_background": "light"
     },
     "output_type": "display_data"
    }
   ],
   "source": [
    "# plot scatterplot to have an intuitive idea about if there is any correlation.\n",
    "plt.plot(life_combined_4['life_18'], life_combined_4['population_18'], 'bo');\n",
    "plt.title('life expectancy vs population density')\n",
    "plt.xlabel('life expectancy in 2018 (years)')\n",
    "plt.ylabel('population density per square km in 2018');"
   ]
  },
  {
   "cell_type": "markdown",
   "metadata": {},
   "source": [
    "It seems that the life expectancy in 2018 is weakly associated with population density after droping one outlier."
   ]
  },
  {
   "cell_type": "code",
   "execution_count": 90,
   "metadata": {},
   "outputs": [
    {
     "data": {
      "text/plain": [
       "SpearmanrResult(correlation=0.23006519614813942, pvalue=0.0019472243500443115)"
      ]
     },
     "execution_count": 90,
     "metadata": {},
     "output_type": "execute_result"
    }
   ],
   "source": [
    "# conduct statistical analysis to see if there is any significant rank correlation\n",
    "stats.spearmanr(life_combined_4['life_18'], life_combined_4['population_18'])"
   ]
  },
  {
   "cell_type": "code",
   "execution_count": 91,
   "metadata": {},
   "outputs": [
    {
     "data": {
      "text/plain": [
       "(0.19020966919666824, 0.010762095247229738)"
      ]
     },
     "execution_count": 91,
     "metadata": {},
     "output_type": "execute_result"
    }
   ],
   "source": [
    "# conduct statistical analysis to see if there is any significant linear correlation\n",
    "stats.pearsonr(life_combined_4['life_18'], life_combined_4['population_18'])"
   ]
  },
  {
   "cell_type": "markdown",
   "metadata": {},
   "source": [
    "Life expectancy in 2018 is significantly associated with population density, but both the spearman correlation coefficent (0.23) and the pearson correlation coefficient (0.19) are very low."
   ]
  },
  {
   "cell_type": "markdown",
   "metadata": {},
   "source": [
    "<a id='conclusions'></a>\n",
    "## Conclusions"
   ]
  },
  {
   "cell_type": "markdown",
   "metadata": {},
   "source": [
    "With the data downladed from Gapminder, the life expectancy change from 2008 to 2018 and the association of life expectancy in 2018 and serval factors have been analyzed. The analysis showed that: \n",
    "* Life expectancies in 80% countries increased about zero to five years from 2008 to 2018, whilelife expectancies in 19% countries increased more than five years. Surprisingly, life expectancies in 1% countries decreased.\n",
    "\n",
    "* When the significance level was set at p-value = 0.05, life expectancy in 2018 is significantly associated with income, primary completion rate, at least basci sanitation access rate, and population density, but not significiantly associated with long term unemployment rate.\n",
    "\n",
    "It is noteworthy that there are some limitations for this study:\n",
    "* Due to no data for primary completion rate, long term unemployment rate and sanitation acess rate in 2018, data from other years were used. New data from 2018 may improve the analysis.\n",
    "* There are more than 30% of missing values for primary completion rate and long term unemployment rate. More collected data may improve the analysis.\n",
    "\n",
    "More analysis can be done for future work:\n",
    "* Regression analysis can be done to get an equation to predict how much the influence factors will influence the expectancy.\n",
    "* Potential interactive relation between the influence factors need to be considered in the regression analysis."
   ]
  }
 ],
 "metadata": {
  "kernelspec": {
   "display_name": "Python 3",
   "language": "python",
   "name": "python3"
  },
  "language_info": {
   "codemirror_mode": {
    "name": "ipython",
    "version": 3
   },
   "file_extension": ".py",
   "mimetype": "text/x-python",
   "name": "python",
   "nbconvert_exporter": "python",
   "pygments_lexer": "ipython3",
   "version": "3.6.8"
  }
 },
 "nbformat": 4,
 "nbformat_minor": 2
}
